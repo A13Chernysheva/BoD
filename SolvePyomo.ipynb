{
 "cells": [
  {
   "cell_type": "code",
   "execution_count": 1,
   "metadata": {},
   "outputs": [],
   "source": [
    "# For Pyomo\n",
    "from __future__ import division\n",
    "from itertools import product\n",
    "import shutil\n",
    "import sys\n",
    "import os.path\n",
    "import numpy as np\n",
    "import time\n",
    "from pyomo.environ import *\n",
    "from pyomo.opt import SolverStatus, TerminationCondition"
   ]
  },
  {
   "cell_type": "code",
   "execution_count": 2,
   "metadata": {},
   "outputs": [],
   "source": [
    "# if not shutil.which(\"pyomo\"):\n",
    "#     get_ipython().system('pip install -q pyomo')\n",
    "#     assert(shutil.which(\"pyomo\"))\n",
    "\n",
    "# if not (shutil.which(\"cbc\") or os.path.isfile(\"cbc\")):\n",
    "#     if \"google.colab\" in sys.modules:\n",
    "#         get_ipython().system('apt-get install -y -qq coinor-cbc')\n",
    "#     else:\n",
    "#         try:\n",
    "#             get_ipython().system('conda install -c conda-forge coincbc ')\n",
    "#         except:\n",
    "#             pass\n",
    "\n",
    "# assert(shutil.which(\"cbc\") or os.path.isfile(\"cbc\"))"
   ]
  },
  {
   "cell_type": "code",
   "execution_count": 3,
   "metadata": {},
   "outputs": [],
   "source": [
    "# ,,,,,,,,,,,,,, Обнуление тех значений, между которыми нет каналов ,,,,,,,,,,,,,,\n",
    "\n",
    "def zero_nconnect(cnstr, m, Bandwidth):\n",
    "    for (k, i, j) in product(m.K, m.V, m.V):\n",
    "        if Bandwidth.at[i, j] == 0:\n",
    "            for tm in m.M:\n",
    "                cnstr.add(m.q[i, j, k, tm] == 0)"
   ]
  },
  {
   "cell_type": "code",
   "execution_count": 4,
   "metadata": {},
   "outputs": [],
   "source": [
    "# # ,,,,,,,,,,,,,, Запрещаем учитывать время после t_k для каждого контракта ,,,,,,,\n",
    "\n",
    "# def only_selftime(cnstr, m, k, t):\n",
    "#     for i, j in product(m.V, m.V):\n",
    "#         cnstr.add(m.q[i, j, k, t] == 0)"
   ]
  },
  {
   "cell_type": "code",
   "execution_count": 5,
   "metadata": {},
   "outputs": [],
   "source": [
    "# # ,,,,,,,,,,,,,, Условие 0 ,,,,,,,,,,,,,,\n",
    "\n",
    "# def eval_cnstr0(m, min_t, C, Bandwidth, BackFlows):\n",
    "#     for tm in m.M:\n",
    "#         sum_v = 0\n",
    "#         for i, j in product(m.V, m.V):\n",
    "#             if Bandwidth.at[i, j] != 0:\n",
    "#                 sum_v += Bandwidth.at[i, j] - BackFlows.at[i, j]\n",
    "#         if not (sum_v >= sum(K[k]['volume'] for k in m.K) / min_t):\n",
    "#             return False\n",
    "#     return True"
   ]
  },
  {
   "cell_type": "code",
   "execution_count": 6,
   "metadata": {},
   "outputs": [],
   "source": [
    "# ,,,,,,,,,,,,,, Условие 1 ,,,,,,,,,,,,,,\n",
    "\n",
    "def eval_cnstr1(cnstr, m, I, Bandwidth, BackFlows):\n",
    "    for tm in m.M:\n",
    "        for i in m.V:\n",
    "            for j in m.V:\n",
    "                if Bandwidth.at[i, j] != 0:\n",
    "                    if I[tm]['Ctm'] != set():\n",
    "                        cnstr.add(sum(m.q[i, j, k, tm] for k in I[tm]['Ctm']) <= Bandwidth.at[i, j] - BackFlows.at[i, j])"
   ]
  },
  {
   "cell_type": "code",
   "execution_count": 7,
   "metadata": {},
   "outputs": [],
   "source": [
    "# ,,,,,,,,,,,,,, Условие 2 ,,,,,,,,,,,,,,\n",
    "\n",
    "def eval_cnstr2(cnstr, m, C, I):\n",
    "    for k in m.K:\n",
    "        a_k = C[k]['A']\n",
    "        s = 0\n",
    "        for tm in m.M:\n",
    "            if k in I[tm]['Ctm']:\n",
    "                for j in m.V:\n",
    "                    s += m.q[a_k, j, k, tm] * I[tm]['em']\n",
    "        cnstr.add(s == C[k]['volume'])"
   ]
  },
  {
   "cell_type": "code",
   "execution_count": 8,
   "metadata": {},
   "outputs": [],
   "source": [
    "# ,,,,,,,,,,,,,, Условие 3 ,,,,,,,,,,,,,,\n",
    "\n",
    "def eval_cnstr3(cnstr, m, C, I):\n",
    "    for k in m.K:\n",
    "        a_k = C[k]['A']\n",
    "        s = 0\n",
    "        for tm in m.M:\n",
    "            if k in I[tm]['Ctm']:\n",
    "                for j in m.V:\n",
    "                    s += m.q[j, a_k, k, tm] * I[tm]['em']\n",
    "        cnstr.add(s == 0)"
   ]
  },
  {
   "cell_type": "code",
   "execution_count": 9,
   "metadata": {},
   "outputs": [],
   "source": [
    "# ,,,,,,,,,,,,,, Условие 4 ,,,,,,,,,,,,,,\n",
    "\n",
    "def eval_cnstr4(cnstr, m, C, I):\n",
    "    for k in m.K:\n",
    "        b_k = C[k]['B']\n",
    "        s = 0\n",
    "        for tm in m.M:\n",
    "            if k in I[tm]['Ctm']:\n",
    "                for j in m.V:\n",
    "                    s += m.q[j, b_k, k, tm] * I[tm]['em']\n",
    "        cnstr.add(s == C[k]['volume'])"
   ]
  },
  {
   "cell_type": "code",
   "execution_count": 10,
   "metadata": {},
   "outputs": [],
   "source": [
    "# ,,,,,,,,,,,,,, Условие 5 ,,,,,,,,,,,,,,\n",
    "\n",
    "def eval_cnstr5(cnstr, m, C, I):\n",
    "    for k in m.K:\n",
    "        b_k = C[k]['B']\n",
    "        s = 0\n",
    "        for tm in m.M:\n",
    "            if k in I[tm]['Ctm']:\n",
    "                for j in m.V:\n",
    "                    s += m.q[b_k, j, k, tm] * I[tm]['em']\n",
    "        cnstr.add(s == 0)"
   ]
  },
  {
   "cell_type": "code",
   "execution_count": 11,
   "metadata": {},
   "outputs": [],
   "source": [
    "# ,,,,,,,,,,,,,, Условие 6 ,,,,,,,,,,,,,,\n",
    "\n",
    "def eval_cnstr6(cnstr, m, C, Bandwidth):\n",
    "    for tm in m.M:\n",
    "        for k in m.K:\n",
    "            a_k = C[k]['A']\n",
    "            b_k = C[k]['B']\n",
    "            for r in m.V - {a_k, b_k}:\n",
    "                sum_in = 0\n",
    "                sum_out = 0\n",
    "                flag = False\n",
    "                for j2 in m.V:\n",
    "                    if Bandwidth.at[j2, r] != 0:\n",
    "                        sum_in += m.q[j2, r, k, tm]\n",
    "                        flag = True\n",
    "                for j1 in m.V:\n",
    "                    if Bandwidth.at[r, j1] != 0:\n",
    "                        sum_out += m.q[r, j1, k, tm]\n",
    "                        flag = True\n",
    "                if flag:\n",
    "                    cnstr.add((sum_in - sum_out) == 0)"
   ]
  },
  {
   "cell_type": "code",
   "execution_count": 12,
   "metadata": {},
   "outputs": [],
   "source": [
    "# ,,,,,,,,,,,,,, Условие 7 ,,,,,,,,,,,,,,\n",
    "\n",
    "def eval_cnstr7(cnstr, m, C, I):\n",
    "    for i, j in product(m.V, m.V):\n",
    "        for k in m.K:\n",
    "            for tm in m.M - {max(m.M)}:\n",
    "                if k in I[tm]['Ctm'] and k in I[tm + 1]['Ctm']:\n",
    "                    cnstr.add(m.q[i, j, k, tm] == m.q[i, j, k, tm + 1])"
   ]
  },
  {
   "cell_type": "code",
   "execution_count": 13,
   "metadata": {},
   "outputs": [],
   "source": [
    "# ,,,,,,,,,,,,,, Условие 8 ,,,,,,,,,,,,,,\n",
    "\n",
    "def eval_cnstr8(cnstr, m, I):\n",
    "    for i in m.V:\n",
    "        for j in m.V:\n",
    "            for tm in m.M:\n",
    "                for k in m.K:\n",
    "                    if not k in I[tm]['Ctm']: \n",
    "                        cnstr.add(m.q[i, j, k, tm] == 0)"
   ]
  },
  {
   "cell_type": "code",
   "execution_count": 14,
   "metadata": {},
   "outputs": [],
   "source": [
    "# ,,,,,,,,,,,,,, Условие 9 ,,,,,,,,,,,,,,\n",
    "\n",
    "def eval_cnstr9(cnstr, m):\n",
    "    for tm in m.M:\n",
    "        for k in m.K:\n",
    "            for i in m.V:\n",
    "                for j in m.V:\n",
    "                    cnstr.add(m.q[i, j, k, tm] >= 0)"
   ]
  },
  {
   "cell_type": "code",
   "execution_count": 15,
   "metadata": {},
   "outputs": [],
   "source": [
    "def get_result(result, m, time):\n",
    "    correctness = \"\"\n",
    "    answer = np.zeros([len(m.V), len(m.V), len(m.K), len(m.M)])\n",
    "    if (result != None) and (result.solver.status == SolverStatus.ok) and (result.solver.termination_condition == TerminationCondition.optimal):\n",
    "        correctness = \"correct\"\n",
    "        for i, j, k, t in product(m.V, m.V, m.K, m.M):\n",
    "            answer[i][j][k][t] = m.q[i, j, k, t]()\n",
    "    else:\n",
    "        correctness = \"Model infeasible\"        \n",
    "        \n",
    "    return (result, correctness, answer, time)"
   ]
  },
  {
   "cell_type": "code",
   "execution_count": 16,
   "metadata": {},
   "outputs": [],
   "source": [
    "def evaluate_model(V, K, M, Contracts, Intervals, Bandwidth, BackFlows):\n",
    "    \n",
    "    start_time = time.time()\n",
    "    \n",
    "#     M_ind = []\n",
    "#     for k in N:\n",
    "#         M_ind.append(set(range(K[k]['time'] // e, T // e)))\n",
    "    \n",
    "    m = ConcreteModel()\n",
    "\n",
    "    m.V = V\n",
    "    m.K = K\n",
    "    m.M = M\n",
    "\n",
    "    m.q = Var(m.V, m.V, m.K, m.M, domain=NonNegativeIntegers)\n",
    "\n",
    "    m.cnstr_01 = ConstraintList()\n",
    "    zero_nconnect(m.cnstr_01, m, Bandwidth)\n",
    "\n",
    "#     m.cnstr_02 = ConstraintList()\n",
    "#     for k in m.K:\n",
    "#         for t in M_ind[k]:\n",
    "#             only_selftime(m.cnstr_02, m, k, t)\n",
    "\n",
    "#     min_t = T;\n",
    "#     for k in m.K:\n",
    "#         min_t = min(K[k]['time'], min_t)\n",
    "\n",
    "#     if not eval_cnstr0(m, min_t, K, Bandwidth, BackFlows):\n",
    "#         end_time = time.time()\n",
    "#         return get_result(None, m, end_time - start_time)\n",
    "\n",
    "    m.cnstr_1 = ConstraintList()\n",
    "    eval_cnstr1(m.cnstr_1, m, Intervals, Bandwidth, BackFlows)\n",
    "\n",
    "    m.cnstr_2 = ConstraintList()\n",
    "    eval_cnstr2(m.cnstr_2, m, Contracts, Intervals)\n",
    "    \n",
    "    m.cnstr_3 = ConstraintList()\n",
    "    eval_cnstr3(m.cnstr_3, m, Contracts, Intervals)\n",
    "\n",
    "    m.cnstr_4 = ConstraintList()\n",
    "    eval_cnstr4(m.cnstr_4, m, Contracts, Intervals)\n",
    "    \n",
    "    m.cnstr_5 = ConstraintList()\n",
    "    eval_cnstr5(m.cnstr_5, m, Contracts, Intervals)\n",
    "\n",
    "    m.cnstr_6 = ConstraintList()\n",
    "    eval_cnstr6(m.cnstr_6, m, Contracts, Bandwidth)\n",
    "    \n",
    "    m.cnstr_7 = ConstraintList()    \n",
    "    eval_cnstr7(m.cnstr_7, m, Contracts, Intervals)\n",
    "    \n",
    "    m.cnstr_8 = ConstraintList()\n",
    "    eval_cnstr8(m.cnstr_8, m, Intervals)\n",
    "    \n",
    "    m.cnstr_9 = ConstraintList()\n",
    "    eval_cnstr9(m.cnstr_9, m)\n",
    "    \n",
    "    m.OBJ = Objective(expr = sum(m.q[i, j, k, t] for i, j, k, t in product(m.V, m.V, m.K, m.M)), sense=minimize)\n",
    "\n",
    "    solver = SolverFactory('cbc')\n",
    "    result = solver.solve(m)\n",
    "    \n",
    "    end_time = time.time()\n",
    "    \n",
    "    return get_result(result, m, end_time - start_time)"
   ]
  },
  {
   "cell_type": "code",
   "execution_count": null,
   "metadata": {},
   "outputs": [],
   "source": []
  },
  {
   "cell_type": "code",
   "execution_count": null,
   "metadata": {},
   "outputs": [],
   "source": []
  },
  {
   "cell_type": "code",
   "execution_count": null,
   "metadata": {},
   "outputs": [],
   "source": []
  }
 ],
 "metadata": {
  "kernelspec": {
   "display_name": "Python 3",
   "language": "python",
   "name": "python3"
  },
  "language_info": {
   "codemirror_mode": {
    "name": "ipython",
    "version": 3
   },
   "file_extension": ".py",
   "mimetype": "text/x-python",
   "name": "python",
   "nbconvert_exporter": "python",
   "pygments_lexer": "ipython3",
   "version": "3.8.5"
  }
 },
 "nbformat": 4,
 "nbformat_minor": 2
}
