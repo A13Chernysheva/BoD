{
 "cells": [
  {
   "cell_type": "code",
   "execution_count": 44,
   "metadata": {},
   "outputs": [],
   "source": [
    "import networkx as nx\n",
    "import pandas as pd\n",
    "import numpy as np\n",
    "import os\n",
    "import yaml"
   ]
  },
  {
   "cell_type": "code",
   "execution_count": 57,
   "metadata": {},
   "outputs": [],
   "source": [
    "TOPO = 'cDialtelecomCz'\n",
    "CONTRACTS_NUM = 100\n",
    "PATH = 'Contracts/{}'.format(TOPO)\n",
    "VOLUME = 10\n",
    "T = 10"
   ]
  },
  {
   "cell_type": "code",
   "execution_count": 60,
   "metadata": {},
   "outputs": [
    {
     "data": {
      "text/plain": [
       "<networkx.classes.graph.Graph at 0x7f7a423c22b0>"
      ]
     },
     "execution_count": 60,
     "metadata": {},
     "output_type": "execute_result"
    }
   ],
   "source": [
    "H1=nx.read_graphml('topo/{}.graphml'.format(TOPO))\n",
    "H = nx.Graph(H1)\n",
    "H"
   ]
  },
  {
   "cell_type": "code",
   "execution_count": 61,
   "metadata": {},
   "outputs": [],
   "source": [
    "Paths_len = pd.DataFrame(0, index=np.arange(len(H.nodes())), \n",
    "                            columns=np.arange(len(H.nodes())))"
   ]
  },
  {
   "cell_type": "code",
   "execution_count": 62,
   "metadata": {},
   "outputs": [],
   "source": [
    "for i in nx.shortest_path_length(H):\n",
    "    for k in i[1].keys():\n",
    "        Paths_len[int(i[0])][int(k)] = i[1][k]"
   ]
  },
  {
   "cell_type": "code",
   "execution_count": 63,
   "metadata": {},
   "outputs": [],
   "source": [
    "# Paths_len"
   ]
  },
  {
   "cell_type": "code",
   "execution_count": 64,
   "metadata": {},
   "outputs": [
    {
     "data": {
      "text/plain": [
       "(193, 193)"
      ]
     },
     "execution_count": 64,
     "metadata": {},
     "output_type": "execute_result"
    }
   ],
   "source": [
    "Paths_len.shape"
   ]
  },
  {
   "cell_type": "code",
   "execution_count": 65,
   "metadata": {},
   "outputs": [],
   "source": [
    "Lenghts = {}\n",
    "for i in range(Paths_len.shape[0]):\n",
    "    for j in range(Paths_len.shape[1]):\n",
    "        k = Paths_len[i][j]\n",
    "        if not k in Lenghts.keys():\n",
    "            Lenghts[k] = [(i, j)]\n",
    "        elif not ((i, j) in Lenghts[k] or (j, i) in Lenghts[k]):\n",
    "            Lenghts[k] += [(i, j)]"
   ]
  },
  {
   "cell_type": "code",
   "execution_count": 66,
   "metadata": {},
   "outputs": [],
   "source": [
    "# Lenghts"
   ]
  },
  {
   "cell_type": "code",
   "execution_count": 67,
   "metadata": {},
   "outputs": [],
   "source": [
    "vertex = []\n",
    "for i in range(CONTRACTS_NUM):\n",
    "    keys = Lenghts.keys()\n",
    "    m = max(keys)\n",
    "    vertex += [Lenghts[m][0]]\n",
    "    del Lenghts[m][0]\n",
    "    if Lenghts[m] == []:\n",
    "        del Lenghts[m]"
   ]
  },
  {
   "cell_type": "code",
   "execution_count": 68,
   "metadata": {},
   "outputs": [
    {
     "data": {
      "text/plain": [
       "100"
      ]
     },
     "execution_count": 68,
     "metadata": {},
     "output_type": "execute_result"
    }
   ],
   "source": [
    "len(vertex)"
   ]
  },
  {
   "cell_type": "code",
   "execution_count": 69,
   "metadata": {},
   "outputs": [],
   "source": [
    "start = 0\n",
    "Contracts = []\n",
    "for i in range(len(vertex)):\n",
    "    Contracts += [{'volume': VOLUME,\n",
    "                  't_s': start,\n",
    "                  't': T,\n",
    "                  'A': vertex[i][0],\n",
    "                  'B': vertex[i][1]}]\n",
    "    start += 5"
   ]
  },
  {
   "cell_type": "code",
   "execution_count": 70,
   "metadata": {
    "scrolled": false
   },
   "outputs": [
    {
     "data": {
      "text/plain": [
       "[{'volume': 10, 't_s': 0, 't': 10, 'A': 47, 'B': 126},\n",
       " {'volume': 10, 't_s': 5, 't': 10, 'A': 47, 'B': 127},\n",
       " {'volume': 10, 't_s': 10, 't': 10, 'A': 39, 'B': 127},\n",
       " {'volume': 10, 't_s': 15, 't': 10, 'A': 44, 'B': 126},\n",
       " {'volume': 10, 't_s': 20, 't': 10, 'A': 44, 'B': 127},\n",
       " {'volume': 10, 't_s': 25, 't': 10, 'A': 47, 'B': 78},\n",
       " {'volume': 10, 't_s': 30, 't': 10, 'A': 47, 'B': 124},\n",
       " {'volume': 10, 't_s': 35, 't': 10, 'A': 47, 'B': 129},\n",
       " {'volume': 10, 't_s': 40, 't': 10, 'A': 127, 'B': 159},\n",
       " {'volume': 10, 't_s': 45, 't': 10, 'A': 127, 'B': 165},\n",
       " {'volume': 10, 't_s': 50, 't': 10, 'A': 5, 'B': 128},\n",
       " {'volume': 10, 't_s': 55, 't': 10, 'A': 36, 'B': 127},\n",
       " {'volume': 10, 't_s': 60, 't': 10, 'A': 39, 'B': 93},\n",
       " {'volume': 10, 't_s': 65, 't': 10, 'A': 39, 'B': 124},\n",
       " {'volume': 10, 't_s': 70, 't': 10, 'A': 39, 'B': 126},\n",
       " {'volume': 10, 't_s': 75, 't': 10, 'A': 44, 'B': 78},\n",
       " {'volume': 10, 't_s': 80, 't': 10, 'A': 44, 'B': 124},\n",
       " {'volume': 10, 't_s': 85, 't': 10, 'A': 44, 'B': 129},\n",
       " {'volume': 10, 't_s': 90, 't': 10, 'A': 45, 'B': 126},\n",
       " {'volume': 10, 't_s': 95, 't': 10, 'A': 45, 'B': 127},\n",
       " {'volume': 10, 't_s': 100, 't': 10, 'A': 47, 'B': 94},\n",
       " {'volume': 10, 't_s': 105, 't': 10, 'A': 47, 'B': 125},\n",
       " {'volume': 10, 't_s': 110, 't': 10, 'A': 47, 'B': 128},\n",
       " {'volume': 10, 't_s': 115, 't': 10, 'A': 93, 'B': 165},\n",
       " {'volume': 10, 't_s': 120, 't': 10, 'A': 124, 'B': 159},\n",
       " {'volume': 10, 't_s': 125, 't': 10, 'A': 124, 'B': 165},\n",
       " {'volume': 10, 't_s': 130, 't': 10, 'A': 126, 'B': 159},\n",
       " {'volume': 10, 't_s': 135, 't': 10, 'A': 126, 'B': 165},\n",
       " {'volume': 10, 't_s': 140, 't': 10, 'A': 127, 'B': 156},\n",
       " {'volume': 10, 't_s': 145, 't': 10, 'A': 127, 'B': 161},\n",
       " {'volume': 10, 't_s': 150, 't': 10, 'A': 4, 'B': 128},\n",
       " {'volume': 10, 't_s': 155, 't': 10, 'A': 5, 'B': 129},\n",
       " {'volume': 10, 't_s': 160, 't': 10, 'A': 5, 'B': 131},\n",
       " {'volume': 10, 't_s': 165, 't': 10, 'A': 7, 'B': 128},\n",
       " {'volume': 10, 't_s': 170, 't': 10, 'A': 7, 'B': 131},\n",
       " {'volume': 10, 't_s': 175, 't': 10, 'A': 25, 'B': 47},\n",
       " {'volume': 10, 't_s': 180, 't': 10, 'A': 36, 'B': 93},\n",
       " {'volume': 10, 't_s': 185, 't': 10, 'A': 36, 'B': 124},\n",
       " {'volume': 10, 't_s': 190, 't': 10, 'A': 36, 'B': 126},\n",
       " {'volume': 10, 't_s': 195, 't': 10, 'A': 39, 'B': 78},\n",
       " {'volume': 10, 't_s': 200, 't': 10, 'A': 39, 'B': 90},\n",
       " {'volume': 10, 't_s': 205, 't': 10, 'A': 39, 'B': 91},\n",
       " {'volume': 10, 't_s': 210, 't': 10, 'A': 39, 'B': 95},\n",
       " {'volume': 10, 't_s': 215, 't': 10, 'A': 39, 'B': 97},\n",
       " {'volume': 10, 't_s': 220, 't': 10, 'A': 39, 'B': 125},\n",
       " {'volume': 10, 't_s': 225, 't': 10, 'A': 39, 'B': 129},\n",
       " {'volume': 10, 't_s': 230, 't': 10, 'A': 39, 'B': 170},\n",
       " {'volume': 10, 't_s': 235, 't': 10, 'A': 44, 'B': 94},\n",
       " {'volume': 10, 't_s': 240, 't': 10, 'A': 44, 'B': 125},\n",
       " {'volume': 10, 't_s': 245, 't': 10, 'A': 44, 'B': 128},\n",
       " {'volume': 10, 't_s': 250, 't': 10, 'A': 45, 'B': 78},\n",
       " {'volume': 10, 't_s': 255, 't': 10, 'A': 45, 'B': 124},\n",
       " {'volume': 10, 't_s': 260, 't': 10, 'A': 45, 'B': 129},\n",
       " {'volume': 10, 't_s': 265, 't': 10, 'A': 47, 'B': 93},\n",
       " {'volume': 10, 't_s': 270, 't': 10, 'A': 47, 'B': 95},\n",
       " {'volume': 10, 't_s': 275, 't': 10, 'A': 47, 'B': 122},\n",
       " {'volume': 10, 't_s': 280, 't': 10, 'A': 47, 'B': 131},\n",
       " {'volume': 10, 't_s': 285, 't': 10, 'A': 49, 'B': 126},\n",
       " {'volume': 10, 't_s': 290, 't': 10, 'A': 49, 'B': 127},\n",
       " {'volume': 10, 't_s': 295, 't': 10, 'A': 78, 'B': 159},\n",
       " {'volume': 10, 't_s': 300, 't': 10, 'A': 78, 'B': 165},\n",
       " {'volume': 10, 't_s': 305, 't': 10, 'A': 90, 'B': 165},\n",
       " {'volume': 10, 't_s': 310, 't': 10, 'A': 91, 'B': 165},\n",
       " {'volume': 10, 't_s': 315, 't': 10, 'A': 93, 'B': 156},\n",
       " {'volume': 10, 't_s': 320, 't': 10, 'A': 93, 'B': 159},\n",
       " {'volume': 10, 't_s': 325, 't': 10, 'A': 93, 'B': 161},\n",
       " {'volume': 10, 't_s': 330, 't': 10, 'A': 95, 'B': 159},\n",
       " {'volume': 10, 't_s': 335, 't': 10, 'A': 95, 'B': 165},\n",
       " {'volume': 10, 't_s': 340, 't': 10, 'A': 97, 'B': 165},\n",
       " {'volume': 10, 't_s': 345, 't': 10, 'A': 124, 'B': 156},\n",
       " {'volume': 10, 't_s': 350, 't': 10, 'A': 124, 'B': 161},\n",
       " {'volume': 10, 't_s': 355, 't': 10, 'A': 125, 'B': 159},\n",
       " {'volume': 10, 't_s': 360, 't': 10, 'A': 125, 'B': 165},\n",
       " {'volume': 10, 't_s': 365, 't': 10, 'A': 126, 'B': 156},\n",
       " {'volume': 10, 't_s': 370, 't': 10, 'A': 126, 'B': 161},\n",
       " {'volume': 10, 't_s': 375, 't': 10, 'A': 127, 'B': 150},\n",
       " {'volume': 10, 't_s': 380, 't': 10, 'A': 127, 'B': 155},\n",
       " {'volume': 10, 't_s': 385, 't': 10, 'A': 127, 'B': 160},\n",
       " {'volume': 10, 't_s': 390, 't': 10, 'A': 129, 'B': 158},\n",
       " {'volume': 10, 't_s': 395, 't': 10, 'A': 129, 'B': 159},\n",
       " {'volume': 10, 't_s': 400, 't': 10, 'A': 129, 'B': 163},\n",
       " {'volume': 10, 't_s': 405, 't': 10, 'A': 129, 'B': 165},\n",
       " {'volume': 10, 't_s': 410, 't': 10, 'A': 165, 'B': 170},\n",
       " {'volume': 10, 't_s': 415, 't': 10, 'A': 2, 'B': 128},\n",
       " {'volume': 10, 't_s': 420, 't': 10, 'A': 4, 'B': 129},\n",
       " {'volume': 10, 't_s': 425, 't': 10, 'A': 4, 'B': 131},\n",
       " {'volume': 10, 't_s': 430, 't': 10, 'A': 5, 'B': 23},\n",
       " {'volume': 10, 't_s': 435, 't': 10, 'A': 5, 'B': 100},\n",
       " {'volume': 10, 't_s': 440, 't': 10, 'A': 5, 'B': 126},\n",
       " {'volume': 10, 't_s': 445, 't': 10, 'A': 5, 'B': 127},\n",
       " {'volume': 10, 't_s': 450, 't': 10, 'A': 6, 'B': 128},\n",
       " {'volume': 10, 't_s': 455, 't': 10, 'A': 6, 'B': 131},\n",
       " {'volume': 10, 't_s': 460, 't': 10, 'A': 7, 'B': 23},\n",
       " {'volume': 10, 't_s': 465, 't': 10, 'A': 7, 'B': 129},\n",
       " {'volume': 10, 't_s': 470, 't': 10, 'A': 23, 'B': 47},\n",
       " {'volume': 10, 't_s': 475, 't': 10, 'A': 25, 'B': 44},\n",
       " {'volume': 10, 't_s': 480, 't': 10, 'A': 36, 'B': 78},\n",
       " {'volume': 10, 't_s': 485, 't': 10, 'A': 36, 'B': 90},\n",
       " {'volume': 10, 't_s': 490, 't': 10, 'A': 36, 'B': 91},\n",
       " {'volume': 10, 't_s': 495, 't': 10, 'A': 36, 'B': 95}]"
      ]
     },
     "execution_count": 70,
     "metadata": {},
     "output_type": "execute_result"
    }
   ],
   "source": [
    "if not os.path.exists(PATH):\n",
    "    os.makedirs(PATH)\n",
    "with open('{}/C={}_{}.yaml'.format(PATH, CONTRACTS_NUM, TOPO), 'w') as f:\n",
    "    yaml.dump(Contracts, f)\n",
    "Contracts"
   ]
  },
  {
   "cell_type": "code",
   "execution_count": null,
   "metadata": {},
   "outputs": [],
   "source": []
  }
 ],
 "metadata": {
  "kernelspec": {
   "display_name": "Python 3",
   "language": "python",
   "name": "python3"
  },
  "language_info": {
   "codemirror_mode": {
    "name": "ipython",
    "version": 3
   },
   "file_extension": ".py",
   "mimetype": "text/x-python",
   "name": "python",
   "nbconvert_exporter": "python",
   "pygments_lexer": "ipython3",
   "version": "3.8.5"
  }
 },
 "nbformat": 4,
 "nbformat_minor": 4
}
