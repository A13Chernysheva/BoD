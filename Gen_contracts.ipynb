{
 "cells": [
  {
   "cell_type": "code",
   "execution_count": 2,
   "metadata": {},
   "outputs": [],
   "source": [
    "import networkx as nx\n",
    "import pandas as pd\n",
    "import numpy as np\n",
    "import matplotlib.pyplot as plt\n",
    "import os\n",
    "import yaml\n",
    "import random"
   ]
  },
  {
   "cell_type": "markdown",
   "metadata": {},
   "source": [
    "Контракты могут быть трех типов:\n",
    "\n",
    "1) __Потоки от backup трафика__ - большой объем передаваемых данных, большой интервал времени\\\n",
    "2) __Миграция виртуальных машин__ - большой объем трафика (но меньший чем в п.1), маленький интервал времени\\\n",
    "3) __Стандартный трафик между виртуальными машинами__ (взаимодействие между vm в рамках одного сервиса) - объем данных маленький, время передачи маленькое"
   ]
  },
  {
   "cell_type": "code",
   "execution_count": 20,
   "metadata": {},
   "outputs": [],
   "source": [
    "TOPO_NAME = 'cBren'\n",
    "CTYPE1 = 10\n",
    "CTYPE2 = 10\n",
    "CTYPE3 = 10\n",
    "UCON_NUM = CTYPE1 + CTYPE2 + CTYPE3\n",
    "ACON_NUM = 70\n",
    "T_MAX = 2000\n",
    "PATH = 'Unique_Contracts/{}'.format(TOPO_NAME)"
   ]
  },
  {
   "cell_type": "code",
   "execution_count": 21,
   "metadata": {},
   "outputs": [
    {
     "data": {
      "text/plain": [
       "<networkx.classes.graph.Graph at 0x7ffb9882eb20>"
      ]
     },
     "execution_count": 21,
     "metadata": {},
     "output_type": "execute_result"
    }
   ],
   "source": [
    "H1 = nx.read_graphml('topo/{}.graphml'.format(TOPO_NAME))\n",
    "H = nx.Graph(H1)\n",
    "H"
   ]
  },
  {
   "cell_type": "code",
   "execution_count": 22,
   "metadata": {},
   "outputs": [],
   "source": [
    "Paths_len = pd.DataFrame(0, index=np.arange(len(H.nodes())), \n",
    "                            columns=np.arange(len(H.nodes())))"
   ]
  },
  {
   "cell_type": "code",
   "execution_count": 23,
   "metadata": {},
   "outputs": [],
   "source": [
    "for i in nx.shortest_path_length(H):\n",
    "    for k in i[1].keys():\n",
    "        Paths_len[int(i[0])][int(k)] = i[1][k]"
   ]
  },
  {
   "cell_type": "code",
   "execution_count": 24,
   "metadata": {},
   "outputs": [],
   "source": [
    "# Paths_len"
   ]
  },
  {
   "cell_type": "code",
   "execution_count": 25,
   "metadata": {},
   "outputs": [
    {
     "data": {
      "text/plain": [
       "(37, 37)"
      ]
     },
     "execution_count": 25,
     "metadata": {},
     "output_type": "execute_result"
    }
   ],
   "source": [
    "Paths_len.shape"
   ]
  },
  {
   "cell_type": "code",
   "execution_count": 26,
   "metadata": {},
   "outputs": [],
   "source": [
    "Lenghts = {}\n",
    "for i in range(Paths_len.shape[0]):\n",
    "    for j in range(Paths_len.shape[1]):\n",
    "        k = Paths_len[i][j]\n",
    "        if not k in Lenghts.keys():\n",
    "            Lenghts[k] = [(i, j)]\n",
    "        elif not ((i, j) in Lenghts[k] or (j, i) in Lenghts[k]):\n",
    "            Lenghts[k] += [(i, j)]"
   ]
  },
  {
   "cell_type": "code",
   "execution_count": 27,
   "metadata": {},
   "outputs": [],
   "source": [
    "# Lenghts"
   ]
  },
  {
   "cell_type": "code",
   "execution_count": 28,
   "metadata": {},
   "outputs": [],
   "source": [
    "vertex = []\n",
    "for i in range(UCON_NUM):\n",
    "    keys = Lenghts.keys()\n",
    "    m = max(keys)\n",
    "    vertex += [Lenghts[m][0]]\n",
    "    del Lenghts[m][0]\n",
    "    if Lenghts[m] == []:\n",
    "        del Lenghts[m]"
   ]
  },
  {
   "cell_type": "code",
   "execution_count": 29,
   "metadata": {},
   "outputs": [
    {
     "data": {
      "text/plain": [
       "30"
      ]
     },
     "execution_count": 29,
     "metadata": {},
     "output_type": "execute_result"
    }
   ],
   "source": [
    "len(vertex)"
   ]
  },
  {
   "cell_type": "code",
   "execution_count": 30,
   "metadata": {},
   "outputs": [],
   "source": [
    "def factor(n):\n",
    "    Ans = []\n",
    "    d = 2\n",
    "    while d * d <= n:\n",
    "        if n % d == 0:\n",
    "            Ans.append(d)\n",
    "            n //= d\n",
    "        else:\n",
    "            d += 1\n",
    "    if n > 1:\n",
    "        Ans.append(n)\n",
    "    return Ans\n",
    "\n",
    "def get_CTYPE1():\n",
    "    # 1GB - 3GB\n",
    "    v = random.randrange(2*(10**3), 3*(10**3), 10)\n",
    "    f = factor(v)\n",
    "    # 8 min - 12.5 min\n",
    "    t = int(np.prod(f[2:]))\n",
    "    return (v, t)\n",
    "    \n",
    "def get_CTYPE2():\n",
    "    # 300MB - 1GB\n",
    "    v = random.randrange(300, 1000, 10)\n",
    "    f = factor(v)\n",
    "    # 8 min - 12.5 min\n",
    "    t = int(np.prod(f[2:]))\n",
    "    return (v, t)\n",
    "    \n",
    "def get_CTYPE3():\n",
    "    # 10MB - 200MB\n",
    "    v = random.randrange(10, 200, 10)\n",
    "    f = factor(v)\n",
    "    # 8 min - 12.5 min\n",
    "    t = int(np.prod(f[2:]))\n",
    "    return (v, t)\n",
    "    \n",
    "def init_CTYPE1(contr):\n",
    "    for i in range(CTYPE1):\n",
    "        v, t = get_CTYPE1()\n",
    "        a, b = random.choice(vertex)\n",
    "        vertex.remove((a, b))\n",
    "        contr += [{'volume': v,\n",
    "                      't_s': [],\n",
    "                       't': t,\n",
    "                       'A': a,\n",
    "                       'B': b,\n",
    "                       'type': 1}]\n",
    "    \n",
    "def init_CTYPE2(contr):\n",
    "    for i in range(CTYPE2):\n",
    "        v, t = get_CTYPE2()\n",
    "        a, b = random.choice(vertex)\n",
    "        vertex.remove((a, b))\n",
    "        contr += [{'volume': v,\n",
    "                      't_s': [],\n",
    "                      't': t,\n",
    "                      'A': a,\n",
    "                      'B': b,\n",
    "                      'type': 2}]\n",
    "    \n",
    "def init_CTYPE3(contr):\n",
    "    for i in range(CTYPE3):\n",
    "        v, t = get_CTYPE3()\n",
    "        a, b = random.choice(vertex)\n",
    "        vertex.remove((a, b))\n",
    "        contr += [{'volume': v,\n",
    "                      't_s': [],\n",
    "                      't': t,\n",
    "                      'A': a,\n",
    "                      'B': b,\n",
    "                      'type': 3}]"
   ]
  },
  {
   "cell_type": "code",
   "execution_count": 31,
   "metadata": {},
   "outputs": [
    {
     "name": "stdout",
     "output_type": "stream",
     "text": [
      "[2, 2, 2, 2, 5, 5, 5]\n"
     ]
    },
    {
     "data": {
      "text/plain": [
       "500"
      ]
     },
     "execution_count": 31,
     "metadata": {},
     "output_type": "execute_result"
    }
   ],
   "source": [
    "f = factor(2000)\n",
    "    # 3 min - 12.5 min\n",
    "print(f)\n",
    "np.prod(f[2:])"
   ]
  },
  {
   "cell_type": "code",
   "execution_count": 32,
   "metadata": {},
   "outputs": [
    {
     "data": {
      "text/plain": [
       "[{'volume': 2220, 't_s': [], 't': 555, 'A': 5, 'B': 16, 'type': 1},\n",
       " {'volume': 2550, 't_s': [], 't': 425, 'A': 18, 'B': 31, 'type': 1},\n",
       " {'volume': 2700, 't_s': [], 't': 675, 'A': 18, 'B': 33, 'type': 1},\n",
       " {'volume': 2020, 't_s': [], 't': 505, 'A': 16, 'B': 35, 'type': 1},\n",
       " {'volume': 2950, 't_s': [], 't': 295, 'A': 4, 'B': 16, 'type': 1},\n",
       " {'volume': 2630, 't_s': [], 't': 263, 'A': 24, 'B': 36, 'type': 1},\n",
       " {'volume': 2720, 't_s': [], 't': 680, 'A': 5, 'B': 18, 'type': 1},\n",
       " {'volume': 2900, 't_s': [], 't': 725, 'A': 18, 'B': 32, 'type': 1},\n",
       " {'volume': 2050, 't_s': [], 't': 205, 'A': 6, 'B': 16, 'type': 1},\n",
       " {'volume': 2170, 't_s': [], 't': 217, 'A': 18, 'B': 27, 'type': 1},\n",
       " {'volume': 400, 't_s': [], 't': 100, 'A': 16, 'B': 36, 'type': 2},\n",
       " {'volume': 910, 't_s': [], 't': 91, 'A': 18, 'B': 35, 'type': 2},\n",
       " {'volume': 760, 't_s': [], 't': 190, 'A': 9, 'B': 36, 'type': 2},\n",
       " {'volume': 440, 't_s': [], 't': 110, 'A': 26, 'B': 36, 'type': 2},\n",
       " {'volume': 610, 't_s': [], 't': 61, 'A': 17, 'B': 36, 'type': 2},\n",
       " {'volume': 860, 't_s': [], 't': 215, 'A': 10, 'B': 36, 'type': 2},\n",
       " {'volume': 440, 't_s': [], 't': 110, 'A': 4, 'B': 36, 'type': 2},\n",
       " {'volume': 580, 't_s': [], 't': 145, 'A': 5, 'B': 36, 'type': 2},\n",
       " {'volume': 320, 't_s': [], 't': 80, 'A': 7, 'B': 16, 'type': 2},\n",
       " {'volume': 520, 't_s': [], 't': 130, 'A': 4, 'B': 18, 'type': 2},\n",
       " {'volume': 100, 't_s': [], 't': 25, 'A': 13, 'B': 36, 'type': 3},\n",
       " {'volume': 130, 't_s': [], 't': 13, 'A': 16, 'B': 27, 'type': 3},\n",
       " {'volume': 10, 't_s': [], 't': 1, 'A': 18, 'B': 36, 'type': 3},\n",
       " {'volume': 180, 't_s': [], 't': 45, 'A': 23, 'B': 36, 'type': 3},\n",
       " {'volume': 80, 't_s': [], 't': 20, 'A': 16, 'B': 33, 'type': 3},\n",
       " {'volume': 10, 't_s': [], 't': 1, 'A': 6, 'B': 36, 'type': 3},\n",
       " {'volume': 70, 't_s': [], 't': 7, 'A': 16, 'B': 32, 'type': 3},\n",
       " {'volume': 60, 't_s': [], 't': 15, 'A': 12, 'B': 36, 'type': 3},\n",
       " {'volume': 90, 't_s': [], 't': 15, 'A': 16, 'B': 31, 'type': 3},\n",
       " {'volume': 110, 't_s': [], 't': 11, 'A': 6, 'B': 18, 'type': 3}]"
      ]
     },
     "execution_count": 32,
     "metadata": {},
     "output_type": "execute_result"
    }
   ],
   "source": [
    "Unique_contracts = []\n",
    "init_CTYPE1(Unique_contracts)\n",
    "init_CTYPE2(Unique_contracts)\n",
    "init_CTYPE3(Unique_contracts)\n",
    "Unique_contracts"
   ]
  },
  {
   "cell_type": "markdown",
   "metadata": {},
   "source": [
    "Сохраним уникальные контракты (проверить путь **PATH!**)"
   ]
  },
  {
   "cell_type": "code",
   "execution_count": 33,
   "metadata": {},
   "outputs": [],
   "source": [
    "if not os.path.exists(PATH):\n",
    "    os.makedirs(PATH)\n",
    "with open('{}/C={}_CT1-{}_CT2-{}_CT3-{}.yaml'.format(PATH, UCON_NUM, CTYPE1, CTYPE2, CTYPE3), 'w') as f:\n",
    "    yaml.dump(Unique_contracts, f)"
   ]
  },
  {
   "cell_type": "code",
   "execution_count": 105,
   "metadata": {},
   "outputs": [
    {
     "data": {
      "text/plain": [
       "[{'volume': 30, 't_s': 1988, 't': 5, 'A': 5, 'B': 16, 'type': 3},\n",
       " {'volume': 910, 't_s': 1352, 't': 91, 'A': 26, 'B': 36, 'type': 2},\n",
       " {'volume': 410, 't_s': 277, 't': 41, 'A': 16, 'B': 31, 'type': 2},\n",
       " {'volume': 2370, 't_s': 1590, 't': 395, 'A': 18, 'B': 35, 'type': 1},\n",
       " {'volume': 2480, 't_s': 953, 't': 620, 'A': 18, 'B': 27, 'type': 1},\n",
       " {'volume': 190, 't_s': 1618, 't': 19, 'A': 23, 'B': 36, 'type': 3},\n",
       " {'volume': 150, 't_s': 997, 't': 25, 'A': 5, 'B': 18, 'type': 3},\n",
       " {'volume': 650, 't_s': 1711, 't': 65, 'A': 4, 'B': 18, 'type': 2},\n",
       " {'volume': 2400, 't_s': 256, 't': 600, 'A': 16, 'B': 33, 'type': 1},\n",
       " {'volume': 550, 't_s': 1274, 't': 55, 'A': 18, 'B': 36, 'type': 2},\n",
       " {'volume': 910, 't_s': 1775, 't': 91, 'A': 26, 'B': 36, 'type': 2},\n",
       " {'volume': 800, 't_s': 1788, 't': 200, 'A': 13, 'B': 36, 'type': 2},\n",
       " {'volume': 2600, 't_s': 344, 't': 650, 'A': 7, 'B': 16, 'type': 1},\n",
       " {'volume': 910, 't_s': 1258, 't': 91, 'A': 26, 'B': 36, 'type': 2},\n",
       " {'volume': 840, 't_s': 786, 't': 210, 'A': 16, 'B': 27, 'type': 2},\n",
       " {'volume': 650, 't_s': 83, 't': 65, 'A': 4, 'B': 18, 'type': 2},\n",
       " {'volume': 130, 't_s': 1403, 't': 13, 'A': 6, 'B': 36, 'type': 3},\n",
       " {'volume': 460, 't_s': 1563, 't': 115, 'A': 5, 'B': 36, 'type': 2},\n",
       " {'volume': 700, 't_s': 1556, 't': 175, 'A': 4, 'B': 36, 'type': 2},\n",
       " {'volume': 150, 't_s': 1546, 't': 25, 'A': 10, 'B': 36, 'type': 3},\n",
       " {'volume': 800, 't_s': 139, 't': 200, 'A': 13, 'B': 36, 'type': 2},\n",
       " {'volume': 650, 't_s': 833, 't': 65, 'A': 4, 'B': 18, 'type': 2},\n",
       " {'volume': 410, 't_s': 423, 't': 41, 'A': 16, 'B': 31, 'type': 2},\n",
       " {'volume': 30, 't_s': 1530, 't': 5, 'A': 5, 'B': 16, 'type': 3},\n",
       " {'volume': 320, 't_s': 1089, 't': 80, 'A': 24, 'B': 36, 'type': 2},\n",
       " {'volume': 2600, 't_s': 176, 't': 650, 'A': 7, 'B': 16, 'type': 1},\n",
       " {'volume': 140, 't_s': 1101, 't': 35, 'A': 6, 'B': 18, 'type': 3},\n",
       " {'volume': 130, 't_s': 1878, 't': 13, 'A': 6, 'B': 36, 'type': 3},\n",
       " {'volume': 120, 't_s': 348, 't': 30, 'A': 16, 'B': 36, 'type': 3},\n",
       " {'volume': 130, 't_s': 1823, 't': 13, 'A': 9, 'B': 36, 'type': 3},\n",
       " {'volume': 2400, 't_s': 1141, 't': 600, 'A': 16, 'B': 33, 'type': 1},\n",
       " {'volume': 130, 't_s': 1490, 't': 13, 'A': 6, 'B': 36, 'type': 3},\n",
       " {'volume': 120, 't_s': 1901, 't': 30, 'A': 16, 'B': 36, 'type': 3},\n",
       " {'volume': 30, 't_s': 1085, 't': 5, 'A': 5, 'B': 16, 'type': 3},\n",
       " {'volume': 2490, 't_s': 1476, 't': 415, 'A': 16, 'B': 35, 'type': 1},\n",
       " {'volume': 130, 't_s': 221, 't': 13, 'A': 6, 'B': 36, 'type': 3},\n",
       " {'volume': 170, 't_s': 1339, 't': 17, 'A': 6, 'B': 16, 'type': 3},\n",
       " {'volume': 2490, 't_s': 355, 't': 415, 'A': 16, 'B': 35, 'type': 1},\n",
       " {'volume': 910, 't_s': 833, 't': 91, 'A': 26, 'B': 36, 'type': 2},\n",
       " {'volume': 910, 't_s': 1094, 't': 91, 'A': 26, 'B': 36, 'type': 2},\n",
       " {'volume': 2400, 't_s': 567, 't': 600, 'A': 16, 'B': 32, 'type': 1},\n",
       " {'volume': 320, 't_s': 1756, 't': 80, 'A': 24, 'B': 36, 'type': 2},\n",
       " {'volume': 650, 't_s': 708, 't': 65, 'A': 4, 'B': 18, 'type': 2},\n",
       " {'volume': 700, 't_s': 431, 't': 175, 'A': 4, 'B': 36, 'type': 2},\n",
       " {'volume': 170, 't_s': 995, 't': 17, 'A': 6, 'B': 16, 'type': 3},\n",
       " {'volume': 840, 't_s': 1584, 't': 210, 'A': 16, 'B': 27, 'type': 2},\n",
       " {'volume': 2480, 't_s': 534, 't': 620, 'A': 18, 'B': 27, 'type': 1},\n",
       " {'volume': 650, 't_s': 1635, 't': 65, 'A': 4, 'B': 18, 'type': 2},\n",
       " {'volume': 2380, 't_s': 833, 't': 595, 'A': 4, 'B': 16, 'type': 1},\n",
       " {'volume': 130, 't_s': 1533, 't': 13, 'A': 9, 'B': 36, 'type': 3},\n",
       " {'volume': 2370, 't_s': 1102, 't': 395, 'A': 18, 'B': 35, 'type': 1},\n",
       " {'volume': 60, 't_s': 1970, 't': 15, 'A': 18, 'B': 32, 'type': 3},\n",
       " {'volume': 130, 't_s': 11, 't': 13, 'A': 6, 'B': 36, 'type': 3},\n",
       " {'volume': 2490, 't_s': 929, 't': 415, 'A': 16, 'B': 35, 'type': 1},\n",
       " {'volume': 410, 't_s': 583, 't': 41, 'A': 16, 'B': 31, 'type': 2},\n",
       " {'volume': 410, 't_s': 1912, 't': 41, 'A': 16, 'B': 31, 'type': 2},\n",
       " {'volume': 840, 't_s': 637, 't': 210, 'A': 16, 'B': 27, 'type': 2},\n",
       " {'volume': 60, 't_s': 1526, 't': 15, 'A': 18, 'B': 32, 'type': 3},\n",
       " {'volume': 120, 't_s': 1564, 't': 30, 'A': 16, 'B': 36, 'type': 3},\n",
       " {'volume': 800, 't_s': 830, 't': 200, 'A': 13, 'B': 36, 'type': 2},\n",
       " {'volume': 2090, 't_s': 1266, 't': 209, 'A': 17, 'B': 36, 'type': 1},\n",
       " {'volume': 320, 't_s': 699, 't': 80, 'A': 24, 'B': 36, 'type': 2},\n",
       " {'volume': 700, 't_s': 396, 't': 175, 'A': 4, 'B': 36, 'type': 2},\n",
       " {'volume': 190, 't_s': 961, 't': 19, 'A': 23, 'B': 36, 'type': 3},\n",
       " {'volume': 2860, 't_s': 30, 't': 715, 'A': 12, 'B': 36, 'type': 1},\n",
       " {'volume': 2090, 't_s': 1742, 't': 209, 'A': 17, 'B': 36, 'type': 1},\n",
       " {'volume': 150, 't_s': 1559, 't': 25, 'A': 5, 'B': 18, 'type': 3},\n",
       " {'volume': 700, 't_s': 1819, 't': 175, 'A': 4, 'B': 36, 'type': 2},\n",
       " {'volume': 2780, 't_s': 901, 't': 695, 'A': 18, 'B': 31, 'type': 1},\n",
       " {'volume': 460, 't_s': 1756, 't': 115, 'A': 5, 'B': 36, 'type': 2}]"
      ]
     },
     "execution_count": 105,
     "metadata": {},
     "output_type": "execute_result"
    }
   ],
   "source": [
    "Contracts = []\n",
    "for i in range(ACON_NUM):\n",
    "    t_s = int(random.uniform(0, T_MAX))\n",
    "    while(True):\n",
    "        i = random.randint(0, UCON_NUM - 1)\n",
    "        c = Unique_contracts[i]\n",
    "        if type(c['t_s']) == int:\n",
    "            d = [c['t_s']]\n",
    "        else:\n",
    "            d = c['t_s']\n",
    "        if T_MAX - c['t'] < t_s:\n",
    "            continue\n",
    "        status = True\n",
    "        for j in d:\n",
    "            if t_s >= j and t_s <= j + c['t']:\n",
    "                status = False\n",
    "        if not status:\n",
    "            continue\n",
    "        Unique_contracts[i]['t_s'] += [t_s]\n",
    "        c = {'volume': Unique_contracts[i]['volume'],\n",
    "                't_s': t_s,\n",
    "                  't': Unique_contracts[i]['t'],\n",
    "                  'A': Unique_contracts[i]['A'],\n",
    "                  'B': Unique_contracts[i]['B'],\n",
    "                  'type': Unique_contracts[i]['type']}\n",
    "        Contracts += [c]\n",
    "        break  \n",
    "Contracts"
   ]
  },
  {
   "cell_type": "markdown",
   "metadata": {},
   "source": [
    "Сохраним результирующий набор контрактов, с уже определенным временем старта (проверить путь **PATH!**)"
   ]
  },
  {
   "cell_type": "code",
   "execution_count": 106,
   "metadata": {
    "scrolled": false
   },
   "outputs": [
    {
     "data": {
      "text/plain": [
       "[{'volume': 30, 't_s': 1988, 't': 5, 'A': 5, 'B': 16, 'type': 3},\n",
       " {'volume': 910, 't_s': 1352, 't': 91, 'A': 26, 'B': 36, 'type': 2},\n",
       " {'volume': 410, 't_s': 277, 't': 41, 'A': 16, 'B': 31, 'type': 2},\n",
       " {'volume': 2370, 't_s': 1590, 't': 395, 'A': 18, 'B': 35, 'type': 1},\n",
       " {'volume': 2480, 't_s': 953, 't': 620, 'A': 18, 'B': 27, 'type': 1},\n",
       " {'volume': 190, 't_s': 1618, 't': 19, 'A': 23, 'B': 36, 'type': 3},\n",
       " {'volume': 150, 't_s': 997, 't': 25, 'A': 5, 'B': 18, 'type': 3},\n",
       " {'volume': 650, 't_s': 1711, 't': 65, 'A': 4, 'B': 18, 'type': 2},\n",
       " {'volume': 2400, 't_s': 256, 't': 600, 'A': 16, 'B': 33, 'type': 1},\n",
       " {'volume': 550, 't_s': 1274, 't': 55, 'A': 18, 'B': 36, 'type': 2},\n",
       " {'volume': 910, 't_s': 1775, 't': 91, 'A': 26, 'B': 36, 'type': 2},\n",
       " {'volume': 800, 't_s': 1788, 't': 200, 'A': 13, 'B': 36, 'type': 2},\n",
       " {'volume': 2600, 't_s': 344, 't': 650, 'A': 7, 'B': 16, 'type': 1},\n",
       " {'volume': 910, 't_s': 1258, 't': 91, 'A': 26, 'B': 36, 'type': 2},\n",
       " {'volume': 840, 't_s': 786, 't': 210, 'A': 16, 'B': 27, 'type': 2},\n",
       " {'volume': 650, 't_s': 83, 't': 65, 'A': 4, 'B': 18, 'type': 2},\n",
       " {'volume': 130, 't_s': 1403, 't': 13, 'A': 6, 'B': 36, 'type': 3},\n",
       " {'volume': 460, 't_s': 1563, 't': 115, 'A': 5, 'B': 36, 'type': 2},\n",
       " {'volume': 700, 't_s': 1556, 't': 175, 'A': 4, 'B': 36, 'type': 2},\n",
       " {'volume': 150, 't_s': 1546, 't': 25, 'A': 10, 'B': 36, 'type': 3},\n",
       " {'volume': 800, 't_s': 139, 't': 200, 'A': 13, 'B': 36, 'type': 2},\n",
       " {'volume': 650, 't_s': 833, 't': 65, 'A': 4, 'B': 18, 'type': 2},\n",
       " {'volume': 410, 't_s': 423, 't': 41, 'A': 16, 'B': 31, 'type': 2},\n",
       " {'volume': 30, 't_s': 1530, 't': 5, 'A': 5, 'B': 16, 'type': 3},\n",
       " {'volume': 320, 't_s': 1089, 't': 80, 'A': 24, 'B': 36, 'type': 2},\n",
       " {'volume': 2600, 't_s': 176, 't': 650, 'A': 7, 'B': 16, 'type': 1},\n",
       " {'volume': 140, 't_s': 1101, 't': 35, 'A': 6, 'B': 18, 'type': 3},\n",
       " {'volume': 130, 't_s': 1878, 't': 13, 'A': 6, 'B': 36, 'type': 3},\n",
       " {'volume': 120, 't_s': 348, 't': 30, 'A': 16, 'B': 36, 'type': 3},\n",
       " {'volume': 130, 't_s': 1823, 't': 13, 'A': 9, 'B': 36, 'type': 3},\n",
       " {'volume': 2400, 't_s': 1141, 't': 600, 'A': 16, 'B': 33, 'type': 1},\n",
       " {'volume': 130, 't_s': 1490, 't': 13, 'A': 6, 'B': 36, 'type': 3},\n",
       " {'volume': 120, 't_s': 1901, 't': 30, 'A': 16, 'B': 36, 'type': 3},\n",
       " {'volume': 30, 't_s': 1085, 't': 5, 'A': 5, 'B': 16, 'type': 3},\n",
       " {'volume': 2490, 't_s': 1476, 't': 415, 'A': 16, 'B': 35, 'type': 1},\n",
       " {'volume': 130, 't_s': 221, 't': 13, 'A': 6, 'B': 36, 'type': 3},\n",
       " {'volume': 170, 't_s': 1339, 't': 17, 'A': 6, 'B': 16, 'type': 3},\n",
       " {'volume': 2490, 't_s': 355, 't': 415, 'A': 16, 'B': 35, 'type': 1},\n",
       " {'volume': 910, 't_s': 833, 't': 91, 'A': 26, 'B': 36, 'type': 2},\n",
       " {'volume': 910, 't_s': 1094, 't': 91, 'A': 26, 'B': 36, 'type': 2},\n",
       " {'volume': 2400, 't_s': 567, 't': 600, 'A': 16, 'B': 32, 'type': 1},\n",
       " {'volume': 320, 't_s': 1756, 't': 80, 'A': 24, 'B': 36, 'type': 2},\n",
       " {'volume': 650, 't_s': 708, 't': 65, 'A': 4, 'B': 18, 'type': 2},\n",
       " {'volume': 700, 't_s': 431, 't': 175, 'A': 4, 'B': 36, 'type': 2},\n",
       " {'volume': 170, 't_s': 995, 't': 17, 'A': 6, 'B': 16, 'type': 3},\n",
       " {'volume': 840, 't_s': 1584, 't': 210, 'A': 16, 'B': 27, 'type': 2},\n",
       " {'volume': 2480, 't_s': 534, 't': 620, 'A': 18, 'B': 27, 'type': 1},\n",
       " {'volume': 650, 't_s': 1635, 't': 65, 'A': 4, 'B': 18, 'type': 2},\n",
       " {'volume': 2380, 't_s': 833, 't': 595, 'A': 4, 'B': 16, 'type': 1},\n",
       " {'volume': 130, 't_s': 1533, 't': 13, 'A': 9, 'B': 36, 'type': 3},\n",
       " {'volume': 2370, 't_s': 1102, 't': 395, 'A': 18, 'B': 35, 'type': 1},\n",
       " {'volume': 60, 't_s': 1970, 't': 15, 'A': 18, 'B': 32, 'type': 3},\n",
       " {'volume': 130, 't_s': 11, 't': 13, 'A': 6, 'B': 36, 'type': 3},\n",
       " {'volume': 2490, 't_s': 929, 't': 415, 'A': 16, 'B': 35, 'type': 1},\n",
       " {'volume': 410, 't_s': 583, 't': 41, 'A': 16, 'B': 31, 'type': 2},\n",
       " {'volume': 410, 't_s': 1912, 't': 41, 'A': 16, 'B': 31, 'type': 2},\n",
       " {'volume': 840, 't_s': 637, 't': 210, 'A': 16, 'B': 27, 'type': 2},\n",
       " {'volume': 60, 't_s': 1526, 't': 15, 'A': 18, 'B': 32, 'type': 3},\n",
       " {'volume': 120, 't_s': 1564, 't': 30, 'A': 16, 'B': 36, 'type': 3},\n",
       " {'volume': 800, 't_s': 830, 't': 200, 'A': 13, 'B': 36, 'type': 2},\n",
       " {'volume': 2090, 't_s': 1266, 't': 209, 'A': 17, 'B': 36, 'type': 1},\n",
       " {'volume': 320, 't_s': 699, 't': 80, 'A': 24, 'B': 36, 'type': 2},\n",
       " {'volume': 700, 't_s': 396, 't': 175, 'A': 4, 'B': 36, 'type': 2},\n",
       " {'volume': 190, 't_s': 961, 't': 19, 'A': 23, 'B': 36, 'type': 3},\n",
       " {'volume': 2860, 't_s': 30, 't': 715, 'A': 12, 'B': 36, 'type': 1},\n",
       " {'volume': 2090, 't_s': 1742, 't': 209, 'A': 17, 'B': 36, 'type': 1},\n",
       " {'volume': 150, 't_s': 1559, 't': 25, 'A': 5, 'B': 18, 'type': 3},\n",
       " {'volume': 700, 't_s': 1819, 't': 175, 'A': 4, 'B': 36, 'type': 2},\n",
       " {'volume': 2780, 't_s': 901, 't': 695, 'A': 18, 'B': 31, 'type': 1},\n",
       " {'volume': 460, 't_s': 1756, 't': 115, 'A': 5, 'B': 36, 'type': 2}]"
      ]
     },
     "execution_count": 106,
     "metadata": {},
     "output_type": "execute_result"
    }
   ],
   "source": [
    "if not os.path.exists(PATH):\n",
    "    os.makedirs(PATH)\n",
    "with open('{}/C={}_TMAX-{}_CT1-{}_CT2-{}_CT3-{}.yaml'.format(PATH, ACON_NUM, T_MAX, CTYPE1, CTYPE2, CTYPE3), 'w') as f:\n",
    "    yaml.dump(Contracts, f)\n",
    "Contracts"
   ]
  },
  {
   "cell_type": "code",
   "execution_count": null,
   "metadata": {},
   "outputs": [],
   "source": []
  },
  {
   "cell_type": "code",
   "execution_count": null,
   "metadata": {},
   "outputs": [],
   "source": []
  }
 ],
 "metadata": {
  "kernelspec": {
   "display_name": "Python 3",
   "language": "python",
   "name": "python3"
  },
  "language_info": {
   "codemirror_mode": {
    "name": "ipython",
    "version": 3
   },
   "file_extension": ".py",
   "mimetype": "text/x-python",
   "name": "python",
   "nbconvert_exporter": "python",
   "pygments_lexer": "ipython3",
   "version": "3.8.5"
  }
 },
 "nbformat": 4,
 "nbformat_minor": 4
}
