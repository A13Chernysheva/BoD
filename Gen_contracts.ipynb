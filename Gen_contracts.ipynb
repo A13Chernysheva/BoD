{
 "cells": [
  {
   "cell_type": "code",
   "execution_count": 2,
   "metadata": {},
   "outputs": [],
   "source": [
    "import networkx as nx\n",
    "import pandas as pd\n",
    "import numpy as np\n",
    "import matplotlib.pyplot as plt\n",
    "import os\n",
    "import yaml\n",
    "import random"
   ]
  },
  {
   "cell_type": "markdown",
   "metadata": {},
   "source": [
    "Контракты могут быть трех типов:\n",
    "\n",
    "1) __Потоки от backup трафика__ - большой объем передаваемых данных, большой интервал времени\\\n",
    "2) __Миграция виртуальных машин__ - большой объем трафика (но меньший чем в п.1), маленький интервал времени\\\n",
    "3) __Стандартный трафик между виртуальными машинами__ (взаимодействие между vm в рамках одного сервиса) - объем данных маленький, время передачи маленькое"
   ]
  },
  {
   "cell_type": "code",
   "execution_count": 99,
   "metadata": {},
   "outputs": [],
   "source": [
    "TOPO_NAME = 'cBren'\n",
    "CTYPE1 = 2\n",
    "CTYPE2 = 4\n",
    "CTYPE3 = 10\n",
    "UCON_NUM = CTYPE1 + CTYPE2 + CTYPE3\n",
    "ACON_NUM = 20\n",
    "T_MAX = 1000\n",
    "PATH = 'Contracts/{}'.format(TOPO_NAME)"
   ]
  },
  {
   "cell_type": "code",
   "execution_count": 100,
   "metadata": {},
   "outputs": [
    {
     "data": {
      "text/plain": [
       "<networkx.classes.graph.Graph at 0x7ff30a695160>"
      ]
     },
     "execution_count": 100,
     "metadata": {},
     "output_type": "execute_result"
    }
   ],
   "source": [
    "H1 = nx.read_graphml('topo/{}.graphml'.format(TOPO_NAME))\n",
    "H = nx.Graph(H1)\n",
    "H"
   ]
  },
  {
   "cell_type": "code",
   "execution_count": 101,
   "metadata": {},
   "outputs": [],
   "source": [
    "Paths_len = pd.DataFrame(0, index=np.arange(len(H.nodes())), \n",
    "                            columns=np.arange(len(H.nodes())))"
   ]
  },
  {
   "cell_type": "code",
   "execution_count": 102,
   "metadata": {},
   "outputs": [],
   "source": [
    "for i in nx.shortest_path_length(H):\n",
    "    for k in i[1].keys():\n",
    "        Paths_len[int(i[0])][int(k)] = i[1][k]"
   ]
  },
  {
   "cell_type": "code",
   "execution_count": 103,
   "metadata": {},
   "outputs": [],
   "source": [
    "# Paths_len"
   ]
  },
  {
   "cell_type": "code",
   "execution_count": 104,
   "metadata": {},
   "outputs": [
    {
     "data": {
      "text/plain": [
       "(37, 37)"
      ]
     },
     "execution_count": 104,
     "metadata": {},
     "output_type": "execute_result"
    }
   ],
   "source": [
    "Paths_len.shape"
   ]
  },
  {
   "cell_type": "code",
   "execution_count": 105,
   "metadata": {},
   "outputs": [],
   "source": [
    "Lenghts = {}\n",
    "for i in range(Paths_len.shape[0]):\n",
    "    for j in range(Paths_len.shape[1]):\n",
    "        k = Paths_len[i][j]\n",
    "        if not k in Lenghts.keys():\n",
    "            Lenghts[k] = [(i, j)]\n",
    "        elif not ((i, j) in Lenghts[k] or (j, i) in Lenghts[k]):\n",
    "            Lenghts[k] += [(i, j)]"
   ]
  },
  {
   "cell_type": "code",
   "execution_count": 106,
   "metadata": {},
   "outputs": [],
   "source": [
    "# Lenghts"
   ]
  },
  {
   "cell_type": "code",
   "execution_count": 107,
   "metadata": {},
   "outputs": [],
   "source": [
    "vertex = []\n",
    "for i in range(UCON_NUM):\n",
    "    keys = Lenghts.keys()\n",
    "    m = max(keys)\n",
    "    vertex += [Lenghts[m][0]]\n",
    "    del Lenghts[m][0]\n",
    "    if Lenghts[m] == []:\n",
    "        del Lenghts[m]"
   ]
  },
  {
   "cell_type": "code",
   "execution_count": 108,
   "metadata": {},
   "outputs": [
    {
     "data": {
      "text/plain": [
       "16"
      ]
     },
     "execution_count": 108,
     "metadata": {},
     "output_type": "execute_result"
    }
   ],
   "source": [
    "len(vertex)"
   ]
  },
  {
   "cell_type": "code",
   "execution_count": 109,
   "metadata": {},
   "outputs": [
    {
     "name": "stdout",
     "output_type": "stream",
     "text": [
      "[2, 2, 2, 2, 5, 5, 5]\n"
     ]
    },
    {
     "data": {
      "text/plain": [
       "500"
      ]
     },
     "execution_count": 109,
     "metadata": {},
     "output_type": "execute_result"
    }
   ],
   "source": [
    "f = factor(2000)\n",
    "    # 3 min - 12.5 min\n",
    "print(f)\n",
    "np.prod(f[2:])"
   ]
  },
  {
   "cell_type": "code",
   "execution_count": 110,
   "metadata": {},
   "outputs": [],
   "source": [
    "def factor(n):\n",
    "    Ans = []\n",
    "    d = 2\n",
    "    while d * d <= n:\n",
    "        if n % d == 0:\n",
    "            Ans.append(d)\n",
    "            n //= d\n",
    "        else:\n",
    "            d += 1\n",
    "    if n > 1:\n",
    "        Ans.append(n)\n",
    "    return Ans\n",
    "\n",
    "def get_CTYPE1():\n",
    "    # 1GB - 3GB\n",
    "    v = random.randrange(2*(10**3), 3*(10**3), 10)\n",
    "    f = factor(v)\n",
    "    # 8 min - 12.5 min\n",
    "    t = int(np.prod(f[2:]))\n",
    "    return (v, t)\n",
    "    \n",
    "def get_CTYPE2():\n",
    "    # 300MB - 1GB\n",
    "    v = random.randrange(300, 1000, 10)\n",
    "    f = factor(v)\n",
    "    # 8 min - 12.5 min\n",
    "    t = int(np.prod(f[2:]))\n",
    "    return (v, t)\n",
    "    \n",
    "def get_CTYPE3():\n",
    "    # 10MB - 200MB\n",
    "    v = random.randrange(10, 200, 10)\n",
    "    f = factor(v)\n",
    "    # 8 min - 12.5 min\n",
    "    t = int(np.prod(f[2:]))\n",
    "    return (v, t)\n",
    "    \n",
    "def init_CTYPE1(contr):\n",
    "    for i in range(CTYPE1):\n",
    "        v, t = get_CTYPE1()\n",
    "        # 7 * 60 - max t from all possible contracts\n",
    "    #     t_s = random.uniform(0, 7*60 - t, 1)\n",
    "    #     a, b = vertex.pop()\n",
    "        a, b = random.choice(vertex)\n",
    "        vertex.remove((a, b))\n",
    "        contr += [{'volume': v,\n",
    "                      't_s': [],\n",
    "                       't': t,\n",
    "                       'A': a,\n",
    "                       'B': b}]\n",
    "    \n",
    "def init_CTYPE2(contr):\n",
    "    for i in range(CTYPE2):\n",
    "        v, t = get_CTYPE2()\n",
    "        # 7 * 60 - max t from all possible contracts\n",
    "    #     t_s = random.uniform(0, 7*60 - t, 1)\n",
    "    #     a, b = vertex.pop()\n",
    "        a, b = random.choice(vertex)\n",
    "        vertex.remove((a, b))\n",
    "        contr += [{'volume': v,\n",
    "                      't_s': [],\n",
    "                      't': t,\n",
    "                      'A': a,\n",
    "                      'B': b}]\n",
    "    \n",
    "def init_CTYPE3(contr):\n",
    "    for i in range(CTYPE3):\n",
    "        v, t = get_CTYPE3()\n",
    "        # 7 * 60 - max t from all possible contracts\n",
    "    #     t_s = random.uniform(0, 7*60 - t, 1)\n",
    "    #     a, b = vertex.pop()\n",
    "        a, b = random.choice(vertex)\n",
    "        vertex.remove((a, b))\n",
    "        contr += [{'volume': v,\n",
    "                      't_s': [],\n",
    "                      't': t,\n",
    "                      'A': a,\n",
    "                      'B': b}]"
   ]
  },
  {
   "cell_type": "code",
   "execution_count": 111,
   "metadata": {},
   "outputs": [
    {
     "data": {
      "text/plain": [
       "[{'volume': 2370, 't_s': [], 't': 395, 'A': 18, 'B': 33},\n",
       " {'volume': 2010, 't_s': [], 't': 335, 'A': 13, 'B': 36},\n",
       " {'volume': 720, 't_s': [], 't': 180, 'A': 18, 'B': 36},\n",
       " {'volume': 450, 't_s': [], 't': 75, 'A': 18, 'B': 32},\n",
       " {'volume': 930, 't_s': [], 't': 155, 'A': 9, 'B': 36},\n",
       " {'volume': 430, 't_s': [], 't': 43, 'A': 16, 'B': 27},\n",
       " {'volume': 50, 't_s': [], 't': 5, 'A': 10, 'B': 36},\n",
       " {'volume': 70, 't_s': [], 't': 7, 'A': 16, 'B': 35},\n",
       " {'volume': 190, 't_s': [], 't': 19, 'A': 16, 'B': 36},\n",
       " {'volume': 60, 't_s': [], 't': 15, 'A': 18, 'B': 27},\n",
       " {'volume': 100, 't_s': [], 't': 25, 'A': 12, 'B': 36},\n",
       " {'volume': 180, 't_s': [], 't': 45, 'A': 18, 'B': 31},\n",
       " {'volume': 100, 't_s': [], 't': 25, 'A': 16, 'B': 31},\n",
       " {'volume': 20, 't_s': [], 't': 5, 'A': 16, 'B': 33},\n",
       " {'volume': 100, 't_s': [], 't': 25, 'A': 16, 'B': 32},\n",
       " {'volume': 50, 't_s': [], 't': 5, 'A': 17, 'B': 36}]"
      ]
     },
     "execution_count": 111,
     "metadata": {},
     "output_type": "execute_result"
    }
   ],
   "source": [
    "Unique_contracts = []\n",
    "init_CTYPE1(Unique_contracts)\n",
    "init_CTYPE2(Unique_contracts)\n",
    "init_CTYPE3(Unique_contracts)\n",
    "Unique_contracts"
   ]
  },
  {
   "cell_type": "code",
   "execution_count": 112,
   "metadata": {},
   "outputs": [
    {
     "data": {
      "text/plain": [
       "[{'volume': 930, 't_s': 485, 't': 155, 'A': 9, 'B': 36},\n",
       " {'volume': 60, 't_s': 260, 't': 15, 'A': 18, 'B': 27},\n",
       " {'volume': 450, 't_s': 456, 't': 75, 'A': 18, 'B': 32},\n",
       " {'volume': 70, 't_s': 777, 't': 7, 'A': 16, 'B': 35},\n",
       " {'volume': 430, 't_s': 524, 't': 43, 'A': 16, 'B': 27},\n",
       " {'volume': 100, 't_s': 665, 't': 25, 'A': 16, 'B': 32},\n",
       " {'volume': 2370, 't_s': 460, 't': 395, 'A': 18, 'B': 33},\n",
       " {'volume': 2010, 't_s': 445, 't': 335, 'A': 13, 'B': 36},\n",
       " {'volume': 100, 't_s': 241, 't': 25, 'A': 12, 'B': 36},\n",
       " {'volume': 100, 't_s': 486, 't': 25, 'A': 12, 'B': 36},\n",
       " {'volume': 430, 't_s': 227, 't': 43, 'A': 16, 'B': 27},\n",
       " {'volume': 70, 't_s': 849, 't': 7, 'A': 16, 'B': 35},\n",
       " {'volume': 930, 't_s': 712, 't': 155, 'A': 9, 'B': 36},\n",
       " {'volume': 180, 't_s': 872, 't': 45, 'A': 18, 'B': 31},\n",
       " {'volume': 100, 't_s': 818, 't': 25, 'A': 16, 'B': 31},\n",
       " {'volume': 430, 't_s': 795, 't': 43, 'A': 16, 'B': 27},\n",
       " {'volume': 100, 't_s': 898, 't': 25, 'A': 16, 'B': 32},\n",
       " {'volume': 60, 't_s': 972, 't': 15, 'A': 18, 'B': 27},\n",
       " {'volume': 930, 't_s': 202, 't': 155, 'A': 9, 'B': 36},\n",
       " {'volume': 20, 't_s': 159, 't': 5, 'A': 16, 'B': 33}]"
      ]
     },
     "execution_count": 112,
     "metadata": {},
     "output_type": "execute_result"
    }
   ],
   "source": [
    "Contracts = []\n",
    "for i in range(ACON_NUM):\n",
    "    t_s = int(random.uniform(0, T_MAX))\n",
    "#     print(t_s)\n",
    "#     print(Unique_contracts)\n",
    "    while(True):\n",
    "        i = random.randint(0, UCON_NUM - 1)\n",
    "#         print(i)\n",
    "        c = Unique_contracts[i]\n",
    "#         print(c)\n",
    "        if type(c['t_s']) == int:\n",
    "            d = [c['t_s']]\n",
    "        else:\n",
    "            d = c['t_s']\n",
    "#         print(d)\n",
    "        if T_MAX - c['t'] < t_s:\n",
    "            continue\n",
    "        status = True\n",
    "#         print(status)\n",
    "        for j in d:\n",
    "            if t_s >= j and t_s <= j + c['t']:\n",
    "                status = False\n",
    "        if not status:\n",
    "            continue\n",
    "#         print(Unique_contracts[i])\n",
    "        Unique_contracts[i]['t_s'] += [t_s]\n",
    "#         print(Unique_contracts[i])\n",
    "        c = {'volume': Unique_contracts[i]['volume'],\n",
    "                't_s': t_s,\n",
    "                  't': Unique_contracts[i]['t'],\n",
    "                  'A': Unique_contracts[i]['A'],\n",
    "                  'B': Unique_contracts[i]['B']}\n",
    "#         c['t_s'] = t_s\n",
    "#         print('add ', c)\n",
    "        Contracts += [c]\n",
    "        break  \n",
    "Contracts"
   ]
  },
  {
   "cell_type": "code",
   "execution_count": 113,
   "metadata": {
    "scrolled": false
   },
   "outputs": [
    {
     "data": {
      "text/plain": [
       "[{'volume': 930, 't_s': 485, 't': 155, 'A': 9, 'B': 36},\n",
       " {'volume': 60, 't_s': 260, 't': 15, 'A': 18, 'B': 27},\n",
       " {'volume': 450, 't_s': 456, 't': 75, 'A': 18, 'B': 32},\n",
       " {'volume': 70, 't_s': 777, 't': 7, 'A': 16, 'B': 35},\n",
       " {'volume': 430, 't_s': 524, 't': 43, 'A': 16, 'B': 27},\n",
       " {'volume': 100, 't_s': 665, 't': 25, 'A': 16, 'B': 32},\n",
       " {'volume': 2370, 't_s': 460, 't': 395, 'A': 18, 'B': 33},\n",
       " {'volume': 2010, 't_s': 445, 't': 335, 'A': 13, 'B': 36},\n",
       " {'volume': 100, 't_s': 241, 't': 25, 'A': 12, 'B': 36},\n",
       " {'volume': 100, 't_s': 486, 't': 25, 'A': 12, 'B': 36},\n",
       " {'volume': 430, 't_s': 227, 't': 43, 'A': 16, 'B': 27},\n",
       " {'volume': 70, 't_s': 849, 't': 7, 'A': 16, 'B': 35},\n",
       " {'volume': 930, 't_s': 712, 't': 155, 'A': 9, 'B': 36},\n",
       " {'volume': 180, 't_s': 872, 't': 45, 'A': 18, 'B': 31},\n",
       " {'volume': 100, 't_s': 818, 't': 25, 'A': 16, 'B': 31},\n",
       " {'volume': 430, 't_s': 795, 't': 43, 'A': 16, 'B': 27},\n",
       " {'volume': 100, 't_s': 898, 't': 25, 'A': 16, 'B': 32},\n",
       " {'volume': 60, 't_s': 972, 't': 15, 'A': 18, 'B': 27},\n",
       " {'volume': 930, 't_s': 202, 't': 155, 'A': 9, 'B': 36},\n",
       " {'volume': 20, 't_s': 159, 't': 5, 'A': 16, 'B': 33}]"
      ]
     },
     "execution_count": 113,
     "metadata": {},
     "output_type": "execute_result"
    }
   ],
   "source": [
    "if not os.path.exists(PATH):\n",
    "    os.makedirs(PATH)\n",
    "with open('{}/C={}_TMAX-{}_CT1-{}_CT2-{}_CT3-{}.yaml'.format(PATH, ACON_NUM, T_MAX, CTYPE1, CTYPE2, CTYPE3), 'w') as f:\n",
    "    yaml.dump(Contracts, f)\n",
    "Contracts"
   ]
  },
  {
   "cell_type": "code",
   "execution_count": null,
   "metadata": {},
   "outputs": [],
   "source": []
  },
  {
   "cell_type": "code",
   "execution_count": null,
   "metadata": {},
   "outputs": [],
   "source": []
  }
 ],
 "metadata": {
  "kernelspec": {
   "display_name": "Python 3",
   "language": "python",
   "name": "python3"
  },
  "language_info": {
   "codemirror_mode": {
    "name": "ipython",
    "version": 3
   },
   "file_extension": ".py",
   "mimetype": "text/x-python",
   "name": "python",
   "nbconvert_exporter": "python",
   "pygments_lexer": "ipython3",
   "version": "3.8.5"
  }
 },
 "nbformat": 4,
 "nbformat_minor": 4
}
