{
 "cells": [
  {
   "cell_type": "code",
   "execution_count": 1,
   "metadata": {},
   "outputs": [],
   "source": [
    "# For data\n",
    "import networkx as nx\n",
    "from parse import *\n",
    "import random\n",
    "import pandas as pd\n",
    "import numpy as np\n",
    "import matplotlib.pyplot as plt"
   ]
  },
  {
   "cell_type": "code",
   "execution_count": 2,
   "metadata": {},
   "outputs": [],
   "source": [
    "from IPython.core.display import display, HTML\n",
    "from IPython.display import Javascript\n",
    "from string import Template\n",
    "import json"
   ]
  },
  {
   "cell_type": "raw",
   "metadata": {},
   "source": [
    "random.seed(3)"
   ]
  },
  {
   "cell_type": "code",
   "execution_count": 3,
   "metadata": {},
   "outputs": [
    {
     "data": {
      "text/plain": [
       "<networkx.classes.graph.Graph at 0x7f33c4f71fd0>"
      ]
     },
     "execution_count": 3,
     "metadata": {},
     "output_type": "execute_result"
    }
   ],
   "source": [
    "H=nx.read_gml('gml_topo/Bren.gml',  label='id')\n",
    "H"
   ]
  },
  {
   "cell_type": "code",
   "execution_count": 4,
   "metadata": {},
   "outputs": [],
   "source": [
    "# Base for measure is Mb/s\n",
    "mmnt = {'b/s':1e-6, 'kb/s': 1e-3, 'Mb/s': 1, 'Gb/s':1e+3, 'Tb/s':1e+6}"
   ]
  },
  {
   "cell_type": "code",
   "execution_count": 5,
   "metadata": {},
   "outputs": [],
   "source": [
    "def unit_measure(strr):\n",
    "    strr = strr.replace(\" \", \"\")\n",
    "    i = strr.rfind('b/s') + 3\n",
    "    strr = strr[:i]\n",
    "    for m in mmnt.keys():\n",
    "        if m in strr:\n",
    "            pattern = '{:d}' + m\n",
    "            k = parse(pattern, strr)\n",
    "            if k != None:\n",
    "                return k[0]*mmnt[m]\n",
    "    return None"
   ]
  },
  {
   "cell_type": "code",
   "execution_count": 6,
   "metadata": {},
   "outputs": [],
   "source": [
    "bflows = {}\n",
    "for e in H.edges():\n",
    "    data = H.get_edge_data(e[1], e[0])\n",
    "    if data['LinkLabel'] != 'Ethernet':\n",
    "        bandwidth = unit_measure(data['LinkLabel'])\n",
    "        step = bandwidth / 100.0\n",
    "        back_flow = random.randrange(0.0, bandwidth, step)\n",
    "        bflows[e] = {'BackgroundFlow': back_flow}\n",
    "        \n",
    "nx.set_edge_attributes(H, bflows)\n",
    "# print(\"New data in network\")\n",
    "# print(H.edges(data = True))"
   ]
  },
  {
   "cell_type": "code",
   "execution_count": 7,
   "metadata": {},
   "outputs": [],
   "source": [
    "# p_capacity - матрица пропускных способностей\n",
    "\n",
    "p_capacity = [[   0, 110,   0,   0,  60],\n",
    "\t\t\t  [ 110,   0, 150, 100,   0],\n",
    "\t\t\t  [   0, 150,   0, 130,   0],\n",
    "\t\t\t  [   0, 100, 130,   0, 120],\n",
    "\t\t\t  [  60,   0,   0, 120,   0]]\n",
    "\n",
    "# f_flows - матрица фоновых потоков\n",
    "\n",
    "f_flows =  [[  0,  10,   0,   0,  20],\n",
    "\t\t\t[ 10,   0,  20,  70,   0],\n",
    "\t\t\t[  0,  20,   0,  10,   0],\n",
    "\t\t\t[  0,  70,  10,   0,  10],\n",
    "\t\t\t[ 20,   0,   0,  10,   0]]"
   ]
  },
  {
   "cell_type": "code",
   "execution_count": 8,
   "metadata": {},
   "outputs": [],
   "source": [
    "def print_pGraph(p_capacity):\n",
    "    nodes = []\n",
    "    for node in range(len(p_capacity)):\n",
    "        nodes.append({'id': node, 'label': node})\n",
    "    edges = []\n",
    "    for i in range(len(p_capacity)):\n",
    "        for j in range(i, len(p_capacity)):\n",
    "            if p_capacity[i][j] != 0:\n",
    "                perc = p_capacity[i][j]\n",
    "                edges.append({'from': i, 'to': j, \n",
    "                              'dashes':False, 'label': (str)(p_capacity[i][j]) + 'Mb/s', \n",
    "                              'font':{'align': 'top'},\n",
    "                              'color': 'BLUE',\n",
    "                              'width': 4})\n",
    "    return (nodes, edges)"
   ]
  },
  {
   "cell_type": "code",
   "execution_count": 9,
   "metadata": {},
   "outputs": [],
   "source": [
    "def print_fGraph(f_flows):\n",
    "    nodes = []\n",
    "    for node in range(len(f_flows)):\n",
    "        nodes.append({'id': node, 'label': node})\n",
    "    edges = []\n",
    "    for i in range(len(f_flows)):\n",
    "        for j in range(i, len(f_flows)):\n",
    "            if f_flows[i][j] != 0:\n",
    "                perc = f_flows[i][j]\n",
    "                edges.append({'from': i, 'to': j, \n",
    "                              'dashes':False, 'label': (str)(f_flows[i][j]) + 'Mb/s', \n",
    "                              'font':{'align': 'top'},\n",
    "                              'color': 'BLUE',\n",
    "                              'width': 4})\n",
    "    return (nodes, edges)"
   ]
  },
  {
   "cell_type": "code",
   "execution_count": 10,
   "metadata": {},
   "outputs": [],
   "source": [
    "def print_Graph(p_capacity, f_flows):\n",
    "    nodes = []\n",
    "    for node in range(len(p_capacity)):\n",
    "        nodes.append({'id': node, 'label': node})\n",
    "    edges = []\n",
    "    for i in range(len(p_capacity)):\n",
    "        for j in range(i, len(p_capacity)):\n",
    "            if p_capacity[i][j] != 0:\n",
    "                perc = f_flows[i][j] / p_capacity[i][j]\n",
    "                color = 'GREEN'  \n",
    "                if perc <= 0.5:\n",
    "                    color = 'GREEN'\n",
    "                elif perc <= 0.8:\n",
    "                    color = 'YELLOW'\n",
    "                elif perc <= 1:\n",
    "                    color = 'RED'\n",
    "                edges.append({'from': i, 'to': j, \n",
    "                              'dashes':False, 'label': (str)(p_capacity[i][j] - f_flows[i][j]) + 'Mb/s', \n",
    "                              'font':{'align': 'top'},\n",
    "                              'color': color,\n",
    "                              'width': 4})\n",
    "    return (nodes, edges)"
   ]
  },
  {
   "cell_type": "code",
   "execution_count": 11,
   "metadata": {},
   "outputs": [],
   "source": [
    "nodes, edges = print_Graph(p_capacity, f_flows)\n",
    "#nodes, edges = print_pGraph(p_capacity)\n",
    "#nodes, edges = print_fGraph(f_flows)"
   ]
  },
  {
   "cell_type": "code",
   "execution_count": 12,
   "metadata": {
    "scrolled": false
   },
   "outputs": [
    {
     "data": {
      "application/javascript": [
       "window.jsonGraph={\n",
       "    \"nodes\": [\n",
       "        {\n",
       "            \"id\": 0,\n",
       "            \"label\": 0\n",
       "        },\n",
       "        {\n",
       "            \"id\": 1,\n",
       "            \"label\": 1\n",
       "        },\n",
       "        {\n",
       "            \"id\": 2,\n",
       "            \"label\": 2\n",
       "        },\n",
       "        {\n",
       "            \"id\": 3,\n",
       "            \"label\": 3\n",
       "        },\n",
       "        {\n",
       "            \"id\": 4,\n",
       "            \"label\": 4\n",
       "        }\n",
       "    ],\n",
       "    \"edges\": [\n",
       "        {\n",
       "            \"from\": 0,\n",
       "            \"to\": 1,\n",
       "            \"dashes\": false,\n",
       "            \"label\": \"100Mb/s\",\n",
       "            \"font\": {\n",
       "                \"align\": \"top\"\n",
       "            },\n",
       "            \"color\": \"GREEN\",\n",
       "            \"width\": 4\n",
       "        },\n",
       "        {\n",
       "            \"from\": 0,\n",
       "            \"to\": 4,\n",
       "            \"dashes\": false,\n",
       "            \"label\": \"40Mb/s\",\n",
       "            \"font\": {\n",
       "                \"align\": \"top\"\n",
       "            },\n",
       "            \"color\": \"GREEN\",\n",
       "            \"width\": 4\n",
       "        },\n",
       "        {\n",
       "            \"from\": 1,\n",
       "            \"to\": 2,\n",
       "            \"dashes\": false,\n",
       "            \"label\": \"130Mb/s\",\n",
       "            \"font\": {\n",
       "                \"align\": \"top\"\n",
       "            },\n",
       "            \"color\": \"GREEN\",\n",
       "            \"width\": 4\n",
       "        },\n",
       "        {\n",
       "            \"from\": 1,\n",
       "            \"to\": 3,\n",
       "            \"dashes\": false,\n",
       "            \"label\": \"30Mb/s\",\n",
       "            \"font\": {\n",
       "                \"align\": \"top\"\n",
       "            },\n",
       "            \"color\": \"YELLOW\",\n",
       "            \"width\": 4\n",
       "        },\n",
       "        {\n",
       "            \"from\": 2,\n",
       "            \"to\": 3,\n",
       "            \"dashes\": false,\n",
       "            \"label\": \"120Mb/s\",\n",
       "            \"font\": {\n",
       "                \"align\": \"top\"\n",
       "            },\n",
       "            \"color\": \"GREEN\",\n",
       "            \"width\": 4\n",
       "        },\n",
       "        {\n",
       "            \"from\": 3,\n",
       "            \"to\": 4,\n",
       "            \"dashes\": false,\n",
       "            \"label\": \"110Mb/s\",\n",
       "            \"font\": {\n",
       "                \"align\": \"top\"\n",
       "            },\n",
       "            \"color\": \"GREEN\",\n",
       "            \"width\": 4\n",
       "        }\n",
       "    ]\n",
       "};"
      ],
      "text/plain": [
       "<IPython.core.display.Javascript object>"
      ]
     },
     "execution_count": 12,
     "metadata": {},
     "output_type": "execute_result"
    }
   ],
   "source": [
    "# Transform the graph into a JSON graph\n",
    "data = {\"nodes\":nodes, \"edges\":edges}\n",
    "jsonGraph = json.dumps(data, indent=4)\n",
    "\n",
    "# Send to Javascript\n",
    "Javascript(\"\"\"window.jsonGraph={};\"\"\".format(jsonGraph))"
   ]
  },
  {
   "cell_type": "code",
   "execution_count": 13,
   "metadata": {},
   "outputs": [
    {
     "data": {
      "application/javascript": [
       "requirejs.config({\n",
       "    paths: {\n",
       "        vis: 'vis'\n",
       "    }\n",
       "});\n",
       "\n",
       "require(['vis'], function(vis){\n",
       "    \n",
       "    // create a network\n",
       "    var container = document.getElementById('mynetwork');\n",
       "    \n",
       "    var options = {\n",
       "        width: '900px',\n",
       "        height: '500px',\n",
       "        edges:{\n",
       "          shadow: true,\n",
       "          smooth: true,\n",
       "          background:{\n",
       "            enabled: true,\n",
       "            color: '#ff0000'\n",
       "          }\n",
       "        }\n",
       "    }\n",
       "    \n",
       "    // We load the JSON graph we generated from iPython input\n",
       "    var graph = window.jsonGraph;\n",
       "    \n",
       "    // Display Graph\n",
       "    var network = new vis.Network(container, graph, options);\n",
       "});\n"
      ],
      "text/plain": [
       "<IPython.core.display.Javascript object>"
      ]
     },
     "metadata": {},
     "output_type": "display_data"
    }
   ],
   "source": [
    "%%javascript\n",
    "requirejs.config({\n",
    "    paths: {\n",
    "        vis: 'vis'\n",
    "    }\n",
    "});\n",
    "\n",
    "require(['vis'], function(vis){\n",
    "    \n",
    "    // create a network\n",
    "    var container = document.getElementById('mynetwork');\n",
    "    \n",
    "    var options = {\n",
    "        width: '900px',\n",
    "        height: '500px',\n",
    "        edges:{\n",
    "          shadow: true,\n",
    "          smooth: true,\n",
    "          background:{\n",
    "            enabled: true,\n",
    "            color: '#ff0000'\n",
    "          }\n",
    "        }\n",
    "    }\n",
    "    \n",
    "    // We load the JSON graph we generated from iPython input\n",
    "    var graph = window.jsonGraph;\n",
    "    \n",
    "    // Display Graph\n",
    "    var network = new vis.Network(container, graph, options);\n",
    "});"
   ]
  },
  {
   "cell_type": "code",
   "execution_count": 14,
   "metadata": {},
   "outputs": [
    {
     "data": {
      "text/html": [
       "<div id=\"mynetwork\"></div>\n"
      ],
      "text/plain": [
       "<IPython.core.display.HTML object>"
      ]
     },
     "metadata": {},
     "output_type": "display_data"
    }
   ],
   "source": [
    "%%html\n",
    "<div id=\"mynetwork\"></div>"
   ]
  },
  {
   "cell_type": "code",
   "execution_count": 15,
   "metadata": {},
   "outputs": [],
   "source": [
    "Bandwidth = pd.DataFrame(p_capacity)\n",
    "BackFlows = pd.DataFrame(f_flows)"
   ]
  },
  {
   "cell_type": "code",
   "execution_count": 16,
   "metadata": {},
   "outputs": [
    {
     "data": {
      "text/html": [
       "<div>\n",
       "<style scoped>\n",
       "    .dataframe tbody tr th:only-of-type {\n",
       "        vertical-align: middle;\n",
       "    }\n",
       "\n",
       "    .dataframe tbody tr th {\n",
       "        vertical-align: top;\n",
       "    }\n",
       "\n",
       "    .dataframe thead th {\n",
       "        text-align: right;\n",
       "    }\n",
       "</style>\n",
       "<table border=\"1\" class=\"dataframe\">\n",
       "  <thead>\n",
       "    <tr style=\"text-align: right;\">\n",
       "      <th></th>\n",
       "      <th>0</th>\n",
       "      <th>1</th>\n",
       "      <th>2</th>\n",
       "      <th>3</th>\n",
       "      <th>4</th>\n",
       "    </tr>\n",
       "  </thead>\n",
       "  <tbody>\n",
       "    <tr>\n",
       "      <th>0</th>\n",
       "      <td>0</td>\n",
       "      <td>10</td>\n",
       "      <td>0</td>\n",
       "      <td>0</td>\n",
       "      <td>20</td>\n",
       "    </tr>\n",
       "    <tr>\n",
       "      <th>1</th>\n",
       "      <td>10</td>\n",
       "      <td>0</td>\n",
       "      <td>20</td>\n",
       "      <td>70</td>\n",
       "      <td>0</td>\n",
       "    </tr>\n",
       "    <tr>\n",
       "      <th>2</th>\n",
       "      <td>0</td>\n",
       "      <td>20</td>\n",
       "      <td>0</td>\n",
       "      <td>10</td>\n",
       "      <td>0</td>\n",
       "    </tr>\n",
       "    <tr>\n",
       "      <th>3</th>\n",
       "      <td>0</td>\n",
       "      <td>70</td>\n",
       "      <td>10</td>\n",
       "      <td>0</td>\n",
       "      <td>10</td>\n",
       "    </tr>\n",
       "    <tr>\n",
       "      <th>4</th>\n",
       "      <td>20</td>\n",
       "      <td>0</td>\n",
       "      <td>0</td>\n",
       "      <td>10</td>\n",
       "      <td>0</td>\n",
       "    </tr>\n",
       "  </tbody>\n",
       "</table>\n",
       "</div>"
      ],
      "text/plain": [
       "    0   1   2   3   4\n",
       "0   0  10   0   0  20\n",
       "1  10   0  20  70   0\n",
       "2   0  20   0  10   0\n",
       "3   0  70  10   0  10\n",
       "4  20   0   0  10   0"
      ]
     },
     "execution_count": 16,
     "metadata": {},
     "output_type": "execute_result"
    }
   ],
   "source": [
    "BackFlows.head(5)"
   ]
  },
  {
   "cell_type": "code",
   "execution_count": 17,
   "metadata": {},
   "outputs": [],
   "source": [
    "from itertools import product\n",
    "\n",
    "def print_answer(correct, answ, V, K, M):\n",
    "    if correct == \"correct\":\n",
    "        for i, j, k, t in product(V, V, K, M):\n",
    "            if (answ[i][j][k][t] != None) and (answ[i][j][k][t] > 0.0):\n",
    "                print(\"answer[{}][{}][{}][{}] = {}\".format(i, j, k, t, answ[i][j][k][t]))\n",
    "    else:\n",
    "        print(correct)"
   ]
  },
  {
   "cell_type": "code",
   "execution_count": 18,
   "metadata": {},
   "outputs": [],
   "source": [
    "Contracts = [{'volume': 600, 't_s': 0, 't':  100, 'A': 0, 'B': 4}, \n",
    "             {'volume': 100, 't_s': 10, 't':  50, 'A': 1, 'B': 2}]"
   ]
  },
  {
   "cell_type": "code",
   "execution_count": 19,
   "metadata": {},
   "outputs": [],
   "source": [
    "def set_time(t0, T, Contracts):\n",
    "    t = {}\n",
    "    points = set()\n",
    "    points.add(t0)\n",
    "    points.add(T)\n",
    "    for c in Contracts:\n",
    "        points.add(c['t_s'])\n",
    "        points.add(c['t_s'] + c['t'])\n",
    "    points = sorted(list(points))\n",
    "    for i in range(len(points) - 1):\n",
    "        e = points[i + 1] - points[i]\n",
    "        C = set()\n",
    "        for c in range(len(Contracts)):\n",
    "            if points[i] >= Contracts[c]['t_s'] and points[i] < Contracts[c]['t_s'] + Contracts[c]['t']:\n",
    "                C.add(c)\n",
    "        t[i] = {'em': e, 'Ctm': C}\n",
    "    return points, t"
   ]
  },
  {
   "cell_type": "code",
   "execution_count": 20,
   "metadata": {},
   "outputs": [
    {
     "data": {
      "text/plain": [
       "([0, 10, 60, 100, 1000],\n",
       " {0: {'em': 10, 'Ctm': {0}},\n",
       "  1: {'em': 50, 'Ctm': {0, 1}},\n",
       "  2: {'em': 40, 'Ctm': {0}},\n",
       "  3: {'em': 900, 'Ctm': set()}})"
      ]
     },
     "execution_count": 20,
     "metadata": {},
     "output_type": "execute_result"
    }
   ],
   "source": [
    "V = set(range(Bandwidth.shape[0])) # число вершин\n",
    "K = set(range(len(Contracts)))     # количество контрактов К\n",
    "t0 = 0                             # начало отсчета t0\n",
    "T = 1000                           # конец отсчета в сек\n",
    "timeline, Intervals = set_time(t0, T, Contracts)\n",
    "M = set(range(len(Intervals)))\n",
    "timeline, Intervals"
   ]
  },
  {
   "cell_type": "code",
   "execution_count": 21,
   "metadata": {},
   "outputs": [
    {
     "name": "stdout",
     "output_type": "stream",
     "text": [
      "Using Python-MIP package version 1.6.8\n"
     ]
    }
   ],
   "source": [
    "import ipynb.fs.full.SolvePyomo as spyomo\n",
    "import ipynb.fs.full.SolveMIP as mip"
   ]
  },
  {
   "cell_type": "code",
   "execution_count": 22,
   "metadata": {},
   "outputs": [
    {
     "name": "stdout",
     "output_type": "stream",
     "text": [
      "Total time:  0.42928504943847656\n",
      "answer[0][4][0][0] = 6.0\n",
      "answer[0][4][0][1] = 6.0\n",
      "answer[0][4][0][2] = 6.0\n",
      "answer[1][2][1][1] = 2.0\n"
     ]
    }
   ],
   "source": [
    "correct_pyomo, answ_pyomo, time_pyomo = spyomo.evaluate_model(V, K, M, Contracts, Intervals, Bandwidth, BackFlows)\n",
    "print(\"Total time: \", time_pyomo)\n",
    "print_answer(correct_pyomo, answ_pyomo, V, K, M)"
   ]
  },
  {
   "cell_type": "code",
   "execution_count": 23,
   "metadata": {},
   "outputs": [],
   "source": [
    "def send_toJS(t, K, p_capacity, f_flows, answ):\n",
    "    nodes = []\n",
    "    for node in range(len(p_capacity)):\n",
    "        nodes.append({'id': node, 'label': node})\n",
    "    edges = []\n",
    "    for i in range(len(p_capacity)):\n",
    "        for j in range(i, len(p_capacity)):\n",
    "            if p_capacity[i][j] != 0:\n",
    "                k_flow = 0\n",
    "                label = ''\n",
    "                for k in K:\n",
    "                    if answ[i][j][k][t] != 0:\n",
    "                        k_flow += answ[i][j][k][t]\n",
    "                        label += ', №' + (str)(k)\n",
    "                    if answ[j][i][k][t] != 0:\n",
    "                        k_flow += answ[j][i][k][t]\n",
    "                        label += ', №' + (str)(k)\n",
    "                color = 'BLUE'\n",
    "                if k_flow != 0:\n",
    "                    perc = (k_flow + f_flows[i][j]) / p_capacity[i][j]\n",
    "                    label += \"\\n\" + (str)(k_flow) + \"Mb/s\"\n",
    "                    if perc <= 0.5:\n",
    "                        color = 'GREEN'\n",
    "                    elif perc <= 0.8:\n",
    "                        color = 'YELLOW'\n",
    "                    elif perc <= 1:\n",
    "                        color = 'RED'        \n",
    "                edges.append({'from': i, 'to': j, \n",
    "                              'dashes':False, 'label': label[2:],\n",
    "                              'font':{'align': 'top'},\n",
    "                              'color': color,\n",
    "                              'width': 4})\n",
    "            \n",
    "    # Transform the graph into a JSON graph\n",
    "    data = {\"nodes\":nodes, \"edges\":edges}\n",
    "    jsonGraph = json.dumps(data, indent=4)\n",
    "\n",
    "    return jsonGraph"
   ]
  },
  {
   "cell_type": "code",
   "execution_count": 24,
   "metadata": {},
   "outputs": [
    {
     "data": {
      "application/javascript": [
       "window.jsonGraph={\n",
       "    \"nodes\": [\n",
       "        {\n",
       "            \"id\": 0,\n",
       "            \"label\": 0\n",
       "        },\n",
       "        {\n",
       "            \"id\": 1,\n",
       "            \"label\": 1\n",
       "        },\n",
       "        {\n",
       "            \"id\": 2,\n",
       "            \"label\": 2\n",
       "        },\n",
       "        {\n",
       "            \"id\": 3,\n",
       "            \"label\": 3\n",
       "        },\n",
       "        {\n",
       "            \"id\": 4,\n",
       "            \"label\": 4\n",
       "        }\n",
       "    ],\n",
       "    \"edges\": [\n",
       "        {\n",
       "            \"from\": 0,\n",
       "            \"to\": 1,\n",
       "            \"dashes\": false,\n",
       "            \"label\": \"\",\n",
       "            \"font\": {\n",
       "                \"align\": \"top\"\n",
       "            },\n",
       "            \"color\": \"BLUE\",\n",
       "            \"width\": 4\n",
       "        },\n",
       "        {\n",
       "            \"from\": 0,\n",
       "            \"to\": 4,\n",
       "            \"dashes\": false,\n",
       "            \"label\": \"\\u21160\\n6.0Mb/s\",\n",
       "            \"font\": {\n",
       "                \"align\": \"top\"\n",
       "            },\n",
       "            \"color\": \"GREEN\",\n",
       "            \"width\": 4\n",
       "        },\n",
       "        {\n",
       "            \"from\": 1,\n",
       "            \"to\": 2,\n",
       "            \"dashes\": false,\n",
       "            \"label\": \"\",\n",
       "            \"font\": {\n",
       "                \"align\": \"top\"\n",
       "            },\n",
       "            \"color\": \"BLUE\",\n",
       "            \"width\": 4\n",
       "        },\n",
       "        {\n",
       "            \"from\": 1,\n",
       "            \"to\": 3,\n",
       "            \"dashes\": false,\n",
       "            \"label\": \"\",\n",
       "            \"font\": {\n",
       "                \"align\": \"top\"\n",
       "            },\n",
       "            \"color\": \"BLUE\",\n",
       "            \"width\": 4\n",
       "        },\n",
       "        {\n",
       "            \"from\": 2,\n",
       "            \"to\": 3,\n",
       "            \"dashes\": false,\n",
       "            \"label\": \"\",\n",
       "            \"font\": {\n",
       "                \"align\": \"top\"\n",
       "            },\n",
       "            \"color\": \"BLUE\",\n",
       "            \"width\": 4\n",
       "        },\n",
       "        {\n",
       "            \"from\": 3,\n",
       "            \"to\": 4,\n",
       "            \"dashes\": false,\n",
       "            \"label\": \"\",\n",
       "            \"font\": {\n",
       "                \"align\": \"top\"\n",
       "            },\n",
       "            \"color\": \"BLUE\",\n",
       "            \"width\": 4\n",
       "        }\n",
       "    ]\n",
       "};"
      ],
      "text/plain": [
       "<IPython.core.display.Javascript object>"
      ]
     },
     "execution_count": 24,
     "metadata": {},
     "output_type": "execute_result"
    }
   ],
   "source": [
    "t = 0\n",
    "jsonGraph = send_toJS(t, K, p_capacity, f_flows, answ_pyomo)\n",
    "Javascript(\"\"\"window.jsonGraph={};\"\"\".format(jsonGraph))"
   ]
  },
  {
   "cell_type": "code",
   "execution_count": 25,
   "metadata": {},
   "outputs": [
    {
     "data": {
      "application/javascript": [
       "requirejs.config({\n",
       "    paths: {\n",
       "        vis: 'vis'\n",
       "    }\n",
       "});\n",
       "\n",
       "require(['vis'], function(vis){\n",
       "    \n",
       "    // create a network\n",
       "    var container = document.getElementById('resultnetwork_pyomo');\n",
       "    \n",
       "    var options = {\n",
       "        width: '1000px',\n",
       "        height: '400px',\n",
       "        edges:{\n",
       "          shadow: true,\n",
       "          smooth: true,\n",
       "          background:{\n",
       "            enabled: true,\n",
       "            color: '#ff0000'\n",
       "          }\n",
       "        }\n",
       "    }\n",
       "    \n",
       "    // We load the JSON graph we generated from iPython input\n",
       "    var graph = window.jsonGraph;\n",
       "    \n",
       "    // Display Graph\n",
       "    var network = new vis.Network(container, graph, options);\n",
       "});\n"
      ],
      "text/plain": [
       "<IPython.core.display.Javascript object>"
      ]
     },
     "metadata": {},
     "output_type": "display_data"
    }
   ],
   "source": [
    "%%javascript\n",
    "requirejs.config({\n",
    "    paths: {\n",
    "        vis: 'vis'\n",
    "    }\n",
    "});\n",
    "\n",
    "require(['vis'], function(vis){\n",
    "    \n",
    "    // create a network\n",
    "    var container = document.getElementById('resultnetwork_pyomo');\n",
    "    \n",
    "    var options = {\n",
    "        width: '1000px',\n",
    "        height: '400px',\n",
    "        edges:{\n",
    "          shadow: true,\n",
    "          smooth: true,\n",
    "          background:{\n",
    "            enabled: true,\n",
    "            color: '#ff0000'\n",
    "          }\n",
    "        }\n",
    "    }\n",
    "    \n",
    "    // We load the JSON graph we generated from iPython input\n",
    "    var graph = window.jsonGraph;\n",
    "    \n",
    "    // Display Graph\n",
    "    var network = new vis.Network(container, graph, options);\n",
    "});"
   ]
  },
  {
   "cell_type": "code",
   "execution_count": 26,
   "metadata": {},
   "outputs": [
    {
     "data": {
      "text/html": [
       "<div id=\"resultnetwork_pyomo\"></div>\n"
      ],
      "text/plain": [
       "<IPython.core.display.HTML object>"
      ]
     },
     "metadata": {},
     "output_type": "display_data"
    }
   ],
   "source": [
    "%%html\n",
    "<div id=\"resultnetwork_pyomo\"></div>"
   ]
  },
  {
   "cell_type": "code",
   "execution_count": null,
   "metadata": {},
   "outputs": [],
   "source": [
    "correct_mip, answ_mip, time_mip = mip.evaluate_model(V, K, M, Contracts, Intervals, Bandwidth, BackFlows)\n",
    "print(\"Total time: \", time_mip)\n",
    "print_answer(correct_mip, answ_mip, V, K, M)"
   ]
  },
  {
   "cell_type": "code",
   "execution_count": null,
   "metadata": {},
   "outputs": [],
   "source": [
    "(answ_mip == answ_pyomo).all()"
   ]
  },
  {
   "cell_type": "code",
   "execution_count": null,
   "metadata": {},
   "outputs": [],
   "source": [
    "t = 0\n",
    "jsonGraph = send_toJS(t, K, p_capacity, f_flows, answ_mip)\n",
    "Javascript(\"\"\"window.jsonGraph={};\"\"\".format(jsonGraph))"
   ]
  },
  {
   "cell_type": "code",
   "execution_count": null,
   "metadata": {},
   "outputs": [],
   "source": [
    "%%javascript\n",
    "requirejs.config({\n",
    "    paths: {\n",
    "        vis: 'vis'\n",
    "    }\n",
    "});\n",
    "\n",
    "require(['vis'], function(vis){\n",
    "    \n",
    "    // create a network\n",
    "    var container = document.getElementById('resultnetwork_mip');\n",
    "    \n",
    "    var options = {\n",
    "        width: '800px',\n",
    "        height: '400px',\n",
    "        edges:{\n",
    "          shadow: true,\n",
    "          smooth: true,\n",
    "          background:{\n",
    "            enabled: true,\n",
    "            color: '#ff0000'\n",
    "          }\n",
    "        }\n",
    "    }\n",
    "    \n",
    "    // We load the JSON graph we generated from iPython input\n",
    "    var graph = window.jsonGraph;\n",
    "    \n",
    "    // Display Graph\n",
    "    var network = new vis.Network(container, graph, options);\n",
    "});"
   ]
  },
  {
   "cell_type": "code",
   "execution_count": null,
   "metadata": {},
   "outputs": [],
   "source": [
    "%%html\n",
    "<div id=\"resultnetwork_mip\"></div>"
   ]
  },
  {
   "cell_type": "code",
   "execution_count": null,
   "metadata": {},
   "outputs": [],
   "source": []
  }
 ],
 "metadata": {
  "kernelspec": {
   "display_name": "Python 3",
   "language": "python",
   "name": "python3"
  },
  "language_info": {
   "codemirror_mode": {
    "name": "ipython",
    "version": 3
   },
   "file_extension": ".py",
   "mimetype": "text/x-python",
   "name": "python",
   "nbconvert_exporter": "python",
   "pygments_lexer": "ipython3",
   "version": "3.8.2"
  }
 },
 "nbformat": 4,
 "nbformat_minor": 2
}
