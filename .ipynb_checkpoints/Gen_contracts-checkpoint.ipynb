{
 "cells": [
  {
   "cell_type": "code",
   "execution_count": 28,
   "metadata": {},
   "outputs": [],
   "source": [
    "import networkx as nx\n",
    "import pandas as pd\n",
    "import numpy as np\n",
    "import os\n",
    "import yaml"
   ]
  },
  {
   "cell_type": "code",
   "execution_count": 32,
   "metadata": {},
   "outputs": [],
   "source": [
    "TOPO = 'cDialtelecomCz'\n",
    "CONTRACTS_NUM = 500\n",
    "PATH = 'Contracts/{}'.format(TOPO)\n",
    "VOLUME = 10\n",
    "T = 10"
   ]
  },
  {
   "cell_type": "code",
   "execution_count": 33,
   "metadata": {},
   "outputs": [
    {
     "data": {
      "text/plain": [
       "<networkx.classes.graph.Graph at 0x7f7a43d93f40>"
      ]
     },
     "execution_count": 33,
     "metadata": {},
     "output_type": "execute_result"
    }
   ],
   "source": [
    "H1=nx.read_graphml('change_topo/{}.graphml'.format(TOPO))\n",
    "H = nx.Graph(H1)\n",
    "H"
   ]
  },
  {
   "cell_type": "code",
   "execution_count": 34,
   "metadata": {},
   "outputs": [],
   "source": [
    "Paths_len = pd.DataFrame(0, index=np.arange(len(H.nodes())), \n",
    "                            columns=np.arange(len(H.nodes())))"
   ]
  },
  {
   "cell_type": "code",
   "execution_count": 35,
   "metadata": {},
   "outputs": [],
   "source": [
    "for i in nx.shortest_path_length(H):\n",
    "    for k in i[1].keys():\n",
    "        Paths_len[int(i[0])][int(k)] = i[1][k]"
   ]
  },
  {
   "cell_type": "code",
   "execution_count": 36,
   "metadata": {},
   "outputs": [],
   "source": [
    "# Paths_len"
   ]
  },
  {
   "cell_type": "code",
   "execution_count": 37,
   "metadata": {},
   "outputs": [
    {
     "data": {
      "text/plain": [
       "(193, 193)"
      ]
     },
     "execution_count": 37,
     "metadata": {},
     "output_type": "execute_result"
    }
   ],
   "source": [
    "Paths_len.shape"
   ]
  },
  {
   "cell_type": "code",
   "execution_count": 38,
   "metadata": {},
   "outputs": [],
   "source": [
    "Lenghts = {}\n",
    "for i in range(Paths_len.shape[0]):\n",
    "    for j in range(Paths_len.shape[1]):\n",
    "        k = Paths_len[i][j]\n",
    "        if not k in Lenghts.keys():\n",
    "            Lenghts[k] = [(i, j)]\n",
    "        elif not ((i, j) in Lenghts[k] or (j, i) in Lenghts[k]):\n",
    "            Lenghts[k] += [(i, j)]"
   ]
  },
  {
   "cell_type": "code",
   "execution_count": 39,
   "metadata": {},
   "outputs": [],
   "source": [
    "# Lenghts"
   ]
  },
  {
   "cell_type": "code",
   "execution_count": 40,
   "metadata": {},
   "outputs": [],
   "source": [
    "vertex = []\n",
    "for i in range(CONTRACTS_NUM):\n",
    "    keys = Lenghts.keys()\n",
    "    m = max(keys)\n",
    "    vertex += [Lenghts[m][0]]\n",
    "    del Lenghts[m][0]\n",
    "    if Lenghts[m] == []:\n",
    "        del Lenghts[m]"
   ]
  },
  {
   "cell_type": "code",
   "execution_count": 41,
   "metadata": {},
   "outputs": [
    {
     "data": {
      "text/plain": [
       "500"
      ]
     },
     "execution_count": 41,
     "metadata": {},
     "output_type": "execute_result"
    }
   ],
   "source": [
    "len(vertex)"
   ]
  },
  {
   "cell_type": "code",
   "execution_count": 42,
   "metadata": {},
   "outputs": [],
   "source": [
    "start = 0\n",
    "Contracts = []\n",
    "for i in range(len(vertex)):\n",
    "    Contracts += [{'volume': VOLUME,\n",
    "                  't_s': start,\n",
    "                  't': T,\n",
    "                  'A': vertex[i][0],\n",
    "                  'B': vertex[i][1]}]\n",
    "    start += 5"
   ]
  },
  {
   "cell_type": "code",
   "execution_count": 43,
   "metadata": {
    "scrolled": false
   },
   "outputs": [],
   "source": [
    "if not os.path.exists(PATH):\n",
    "    os.makedirs(PATH)\n",
    "with open('{}/C={}_{}.yaml'.format(PATH, CONTRACTS_NUM, TOPO), 'w') as f:\n",
    "    yaml.dump(Contracts, f)\n",
    "Contracts"
   ]
  },
  {
   "cell_type": "code",
   "execution_count": null,
   "metadata": {},
   "outputs": [],
   "source": []
  }
 ],
 "metadata": {
  "kernelspec": {
   "display_name": "Python 3",
   "language": "python",
   "name": "python3"
  },
  "language_info": {
   "codemirror_mode": {
    "name": "ipython",
    "version": 3
   },
   "file_extension": ".py",
   "mimetype": "text/x-python",
   "name": "python",
   "nbconvert_exporter": "python",
   "pygments_lexer": "ipython3",
   "version": "3.8.5"
  }
 },
 "nbformat": 4,
 "nbformat_minor": 4
}
