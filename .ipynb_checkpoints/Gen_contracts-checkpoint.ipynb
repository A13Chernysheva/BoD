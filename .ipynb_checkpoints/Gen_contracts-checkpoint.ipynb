{
 "cells": [
  {
   "cell_type": "code",
   "execution_count": 48,
   "metadata": {},
   "outputs": [],
   "source": [
    "import networkx as nx\n",
    "import pandas as pd\n",
    "import numpy as np\n",
    "import matplotlib.pyplot as plt\n",
    "import os\n",
    "import yaml\n",
    "import random"
   ]
  },
  {
   "cell_type": "markdown",
   "metadata": {},
   "source": [
    "Контракты могут быть трех типов:\n",
    "\n",
    "1) __Потоки от backup трафика__ - большой объем передаваемых данных, большой интервал времени\\\n",
    "2) __Миграция виртуальных машин__ - большой объем трафика (но меньший чем в п.1), маленький интервал времени\\\n",
    "3) __Стандартный трафик между виртуальными машинами__ (взаимодействие между vm в рамках одного сервиса) - объем данных маленький, время передачи маленькое"
   ]
  },
  {
   "cell_type": "code",
   "execution_count": 52,
   "metadata": {},
   "outputs": [],
   "source": [
    "TOPO_NAME = 'cBren'\n",
    "CTYPE1 = 2\n",
    "CTYPE2 = 4\n",
    "CTYPE3 = 10\n",
    "UCON_NUM = CTYPE1 + CTYPE2 + CTYPE3\n",
    "ACON_NUM = 20\n",
    "T_MAX = 1000\n",
    "PATH = 'Contracts/{}'.format(TOPO_NAME)"
   ]
  },
  {
   "cell_type": "code",
   "execution_count": 53,
   "metadata": {},
   "outputs": [
    {
     "data": {
      "text/plain": [
       "<networkx.classes.graph.Graph at 0x7fdbf01e0100>"
      ]
     },
     "execution_count": 53,
     "metadata": {},
     "output_type": "execute_result"
    }
   ],
   "source": [
    "H1 = nx.read_graphml('topo/{}.graphml'.format(TOPO_NAME))\n",
    "H = nx.Graph(H1)\n",
    "H"
   ]
  },
  {
   "cell_type": "code",
   "execution_count": 54,
   "metadata": {},
   "outputs": [],
   "source": [
    "Paths_len = pd.DataFrame(0, index=np.arange(len(H.nodes())), \n",
    "                            columns=np.arange(len(H.nodes())))"
   ]
  },
  {
   "cell_type": "code",
   "execution_count": 55,
   "metadata": {},
   "outputs": [],
   "source": [
    "for i in nx.shortest_path_length(H):\n",
    "    for k in i[1].keys():\n",
    "        Paths_len[int(i[0])][int(k)] = i[1][k]"
   ]
  },
  {
   "cell_type": "code",
   "execution_count": 56,
   "metadata": {},
   "outputs": [],
   "source": [
    "# Paths_len"
   ]
  },
  {
   "cell_type": "code",
   "execution_count": 57,
   "metadata": {},
   "outputs": [
    {
     "data": {
      "text/plain": [
       "(37, 37)"
      ]
     },
     "execution_count": 57,
     "metadata": {},
     "output_type": "execute_result"
    }
   ],
   "source": [
    "Paths_len.shape"
   ]
  },
  {
   "cell_type": "code",
   "execution_count": 58,
   "metadata": {},
   "outputs": [],
   "source": [
    "Lenghts = {}\n",
    "for i in range(Paths_len.shape[0]):\n",
    "    for j in range(Paths_len.shape[1]):\n",
    "        k = Paths_len[i][j]\n",
    "        if not k in Lenghts.keys():\n",
    "            Lenghts[k] = [(i, j)]\n",
    "        elif not ((i, j) in Lenghts[k] or (j, i) in Lenghts[k]):\n",
    "            Lenghts[k] += [(i, j)]"
   ]
  },
  {
   "cell_type": "code",
   "execution_count": 59,
   "metadata": {},
   "outputs": [],
   "source": [
    "# Lenghts"
   ]
  },
  {
   "cell_type": "code",
   "execution_count": 129,
   "metadata": {},
   "outputs": [],
   "source": [
    "vertex = []\n",
    "for i in range(UCON_NUM):\n",
    "    keys = Lenghts.keys()\n",
    "    m = max(keys)\n",
    "    vertex += [Lenghts[m][0]]\n",
    "    del Lenghts[m][0]\n",
    "    if Lenghts[m] == []:\n",
    "        del Lenghts[m]"
   ]
  },
  {
   "cell_type": "code",
   "execution_count": 130,
   "metadata": {},
   "outputs": [
    {
     "data": {
      "text/plain": [
       "16"
      ]
     },
     "execution_count": 130,
     "metadata": {},
     "output_type": "execute_result"
    }
   ],
   "source": [
    "len(vertex)"
   ]
  },
  {
   "cell_type": "code",
   "execution_count": 131,
   "metadata": {},
   "outputs": [],
   "source": [
    "def get_CTYPE1():\n",
    "    # 1GB - 3GB\n",
    "    v = random.randrange(2*(10^3), 3*(10^3), 10)\n",
    "    # 3 min - 7 min\n",
    "    t = random.randrange(3*(60), 7*(60), 10)\n",
    "    return (v, t)\n",
    "    \n",
    "def get_CTYPE2():\n",
    "    # 300MB - 1GB\n",
    "    v = random.randrange(300, 1000, 10)\n",
    "    # 3 min - 7 min\n",
    "    t = random.randrange(60, 2*(60), 10)\n",
    "    return (v, t)\n",
    "    \n",
    "def get_CTYPE3():\n",
    "    # 10MB - 200MB\n",
    "    v = random.randrange(10, 200, 10)\n",
    "    # 10 sec - 1 min\n",
    "    t = random.randrange(10, 60, 10)\n",
    "    return (v, t)\n",
    "    \n",
    "def init_CTYPE1(contr):\n",
    "    for i in range(CTYPE1):\n",
    "        v, t = get_CTYPE1()\n",
    "        # 7 * 60 - max t from all possible contracts\n",
    "    #     t_s = random.uniform(0, 7*60 - t, 1)\n",
    "    #     a, b = vertex.pop()\n",
    "        a, b = random.choice(vertex)\n",
    "        vertex.remove((a, b))\n",
    "        contr += [{'volume': v,\n",
    "                      't_s': [],\n",
    "                       't': t,\n",
    "                       'A': a,\n",
    "                       'B': b}]\n",
    "    \n",
    "def init_CTYPE2(contr):\n",
    "    for i in range(CTYPE2):\n",
    "        v, t = get_CTYPE2()\n",
    "        # 7 * 60 - max t from all possible contracts\n",
    "    #     t_s = random.uniform(0, 7*60 - t, 1)\n",
    "    #     a, b = vertex.pop()\n",
    "        a, b = random.choice(vertex)\n",
    "        vertex.remove((a, b))\n",
    "        contr += [{'volume': v,\n",
    "                      't_s': [],\n",
    "                      't': t,\n",
    "                      'A': a,\n",
    "                      'B': b}]\n",
    "    \n",
    "def init_CTYPE3(contr):\n",
    "    for i in range(CTYPE3):\n",
    "        v, t = get_CTYPE3()\n",
    "        # 7 * 60 - max t from all possible contracts\n",
    "    #     t_s = random.uniform(0, 7*60 - t, 1)\n",
    "    #     a, b = vertex.pop()\n",
    "        a, b = random.choice(vertex)\n",
    "        vertex.remove((a, b))\n",
    "        contr += [{'volume': v,\n",
    "                      't_s': [],\n",
    "                      't': t,\n",
    "                      'A': a,\n",
    "                      'B': b}]"
   ]
  },
  {
   "cell_type": "code",
   "execution_count": 132,
   "metadata": {},
   "outputs": [
    {
     "data": {
      "text/plain": [
       "[{'volume': 18, 't_s': [], 't': 320, 'A': 9, 'B': 11},\n",
       " {'volume': 18, 't_s': [], 't': 320, 'A': 8, 'B': 18},\n",
       " {'volume': 810, 't_s': [], 't': 100, 'A': 9, 'B': 19},\n",
       " {'volume': 570, 't_s': [], 't': 100, 'A': 7, 'B': 32},\n",
       " {'volume': 490, 't_s': [], 't': 90, 'A': 10, 'B': 34},\n",
       " {'volume': 760, 't_s': [], 't': 110, 'A': 11, 'B': 18},\n",
       " {'volume': 100, 't_s': [], 't': 10, 'A': 9, 'B': 18},\n",
       " {'volume': 180, 't_s': [], 't': 10, 'A': 7, 'B': 33},\n",
       " {'volume': 140, 't_s': [], 't': 50, 'A': 7, 'B': 35},\n",
       " {'volume': 160, 't_s': [], 't': 50, 'A': 9, 'B': 10},\n",
       " {'volume': 110, 't_s': [], 't': 10, 'A': 10, 'B': 28},\n",
       " {'volume': 170, 't_s': [], 't': 30, 'A': 9, 'B': 34},\n",
       " {'volume': 140, 't_s': [], 't': 30, 'A': 9, 'B': 20},\n",
       " {'volume': 10, 't_s': [], 't': 20, 'A': 8, 'B': 16},\n",
       " {'volume': 40, 't_s': [], 't': 50, 'A': 8, 'B': 36},\n",
       " {'volume': 150, 't_s': [], 't': 20, 'A': 9, 'B': 28}]"
      ]
     },
     "execution_count": 132,
     "metadata": {},
     "output_type": "execute_result"
    }
   ],
   "source": [
    "Unique_contracts = []\n",
    "init_CTYPE1(Unique_contracts)\n",
    "init_CTYPE2(Unique_contracts)\n",
    "init_CTYPE3(Unique_contracts)\n",
    "Unique_contracts"
   ]
  },
  {
   "cell_type": "code",
   "execution_count": 133,
   "metadata": {},
   "outputs": [
    {
     "name": "stdout",
     "output_type": "stream",
     "text": [
      "54\n",
      "13\n",
      "{'volume': 10, 't_s': [], 't': 20, 'A': 8, 'B': 16}\n",
      "[]\n",
      "[]\n",
      "[[54]]\n",
      "292\n",
      "13\n",
      "{'volume': 10, 't_s': 54, 't': 20, 'A': 8, 'B': 16}\n",
      "54\n"
     ]
    },
    {
     "ename": "TypeError",
     "evalue": "'int' object is not iterable",
     "output_type": "error",
     "traceback": [
      "\u001b[0;31m---------------------------------------------------------------------------\u001b[0m",
      "\u001b[0;31mTypeError\u001b[0m                                 Traceback (most recent call last)",
      "\u001b[0;32m<ipython-input-133-ba736dcc5f45>\u001b[0m in \u001b[0;36m<module>\u001b[0;34m\u001b[0m\n\u001b[1;32m     13\u001b[0m             \u001b[0;32mcontinue\u001b[0m\u001b[0;34m\u001b[0m\u001b[0;34m\u001b[0m\u001b[0m\n\u001b[1;32m     14\u001b[0m         \u001b[0mstatus\u001b[0m \u001b[0;34m=\u001b[0m \u001b[0;32mTrue\u001b[0m\u001b[0;34m\u001b[0m\u001b[0;34m\u001b[0m\u001b[0m\n\u001b[0;32m---> 15\u001b[0;31m         \u001b[0;32mfor\u001b[0m \u001b[0mj\u001b[0m \u001b[0;32min\u001b[0m \u001b[0md\u001b[0m\u001b[0;34m:\u001b[0m\u001b[0;34m\u001b[0m\u001b[0;34m\u001b[0m\u001b[0m\n\u001b[0m\u001b[1;32m     16\u001b[0m             \u001b[0;32mif\u001b[0m \u001b[0mt_s\u001b[0m \u001b[0;34m>=\u001b[0m \u001b[0mj\u001b[0m \u001b[0;32mand\u001b[0m \u001b[0mt_s\u001b[0m \u001b[0;34m<=\u001b[0m \u001b[0mj\u001b[0m \u001b[0;34m+\u001b[0m \u001b[0mc\u001b[0m\u001b[0;34m[\u001b[0m\u001b[0;34m't'\u001b[0m\u001b[0;34m]\u001b[0m\u001b[0;34m:\u001b[0m\u001b[0;34m\u001b[0m\u001b[0;34m\u001b[0m\u001b[0m\n\u001b[1;32m     17\u001b[0m                 \u001b[0mstatus\u001b[0m \u001b[0;34m=\u001b[0m \u001b[0;32mFalse\u001b[0m\u001b[0;34m\u001b[0m\u001b[0;34m\u001b[0m\u001b[0m\n",
      "\u001b[0;31mTypeError\u001b[0m: 'int' object is not iterable"
     ]
    }
   ],
   "source": [
    "Contracts = []\n",
    "for i in range(ACON_NUM):\n",
    "    t_s = int(random.uniform(0, T_MAX))\n",
    "    print(t_s)\n",
    "    while(True):\n",
    "        i = random.randint(0, UCON_NUM - 1)\n",
    "        print(i)\n",
    "        c = Unique_contracts[i]\n",
    "        print(c)\n",
    "        d = c['t_s']\n",
    "        print(d)\n",
    "        if T_MAX - c['t'] < t_s:\n",
    "            continue\n",
    "        status = True\n",
    "        for j in d:\n",
    "            if t_s >= j and t_s <= j + c['t']:\n",
    "                status = False\n",
    "        if not status:\n",
    "            continue\n",
    "        print(Unique_contracts[i])\n",
    "        Unique_contracts[i]['t_s'] += [[t_s]]\n",
    "        print(Unique_contracts[i])\n",
    "        c['t_s'] = t_s\n",
    "#         print('add ', c)\n",
    "        Contracts += [c]\n",
    "        break  \n",
    "Contracts"
   ]
  },
  {
   "cell_type": "code",
   "execution_count": 123,
   "metadata": {
    "scrolled": false
   },
   "outputs": [
    {
     "ename": "NameError",
     "evalue": "name 'CONTRACTS_NUM' is not defined",
     "output_type": "error",
     "traceback": [
      "\u001b[0;31m---------------------------------------------------------------------------\u001b[0m",
      "\u001b[0;31mNameError\u001b[0m                                 Traceback (most recent call last)",
      "\u001b[0;32m<ipython-input-123-8567dd22c45f>\u001b[0m in \u001b[0;36m<module>\u001b[0;34m\u001b[0m\n\u001b[1;32m      1\u001b[0m \u001b[0;32mif\u001b[0m \u001b[0;32mnot\u001b[0m \u001b[0mos\u001b[0m\u001b[0;34m.\u001b[0m\u001b[0mpath\u001b[0m\u001b[0;34m.\u001b[0m\u001b[0mexists\u001b[0m\u001b[0;34m(\u001b[0m\u001b[0mPATH\u001b[0m\u001b[0;34m)\u001b[0m\u001b[0;34m:\u001b[0m\u001b[0;34m\u001b[0m\u001b[0;34m\u001b[0m\u001b[0m\n\u001b[1;32m      2\u001b[0m     \u001b[0mos\u001b[0m\u001b[0;34m.\u001b[0m\u001b[0mmakedirs\u001b[0m\u001b[0;34m(\u001b[0m\u001b[0mPATH\u001b[0m\u001b[0;34m)\u001b[0m\u001b[0;34m\u001b[0m\u001b[0;34m\u001b[0m\u001b[0m\n\u001b[0;32m----> 3\u001b[0;31m \u001b[0;32mwith\u001b[0m \u001b[0mopen\u001b[0m\u001b[0;34m(\u001b[0m\u001b[0;34m'{}/C={}_{}.yaml'\u001b[0m\u001b[0;34m.\u001b[0m\u001b[0mformat\u001b[0m\u001b[0;34m(\u001b[0m\u001b[0mPATH\u001b[0m\u001b[0;34m,\u001b[0m \u001b[0mCONTRACTS_NUM\u001b[0m\u001b[0;34m,\u001b[0m \u001b[0mTOPO\u001b[0m\u001b[0;34m)\u001b[0m\u001b[0;34m,\u001b[0m \u001b[0;34m'w'\u001b[0m\u001b[0;34m)\u001b[0m \u001b[0;32mas\u001b[0m \u001b[0mf\u001b[0m\u001b[0;34m:\u001b[0m\u001b[0;34m\u001b[0m\u001b[0;34m\u001b[0m\u001b[0m\n\u001b[0m\u001b[1;32m      4\u001b[0m     \u001b[0myaml\u001b[0m\u001b[0;34m.\u001b[0m\u001b[0mdump\u001b[0m\u001b[0;34m(\u001b[0m\u001b[0mContracts\u001b[0m\u001b[0;34m,\u001b[0m \u001b[0mf\u001b[0m\u001b[0;34m)\u001b[0m\u001b[0;34m\u001b[0m\u001b[0;34m\u001b[0m\u001b[0m\n\u001b[1;32m      5\u001b[0m \u001b[0mContracts\u001b[0m\u001b[0;34m\u001b[0m\u001b[0;34m\u001b[0m\u001b[0m\n",
      "\u001b[0;31mNameError\u001b[0m: name 'CONTRACTS_NUM' is not defined"
     ]
    }
   ],
   "source": [
    "if not os.path.exists(PATH):\n",
    "    os.makedirs(PATH)\n",
    "with open('{}/C={}_{}.yaml'.format(PATH, CONTRACTS_NUM, TOPO), 'w') as f:\n",
    "    yaml.dump(Contracts, f)\n",
    "Contracts"
   ]
  },
  {
   "cell_type": "code",
   "execution_count": null,
   "metadata": {},
   "outputs": [],
   "source": []
  }
 ],
 "metadata": {
  "kernelspec": {
   "display_name": "Python 3",
   "language": "python",
   "name": "python3"
  },
  "language_info": {
   "codemirror_mode": {
    "name": "ipython",
    "version": 3
   },
   "file_extension": ".py",
   "mimetype": "text/x-python",
   "name": "python",
   "nbconvert_exporter": "python",
   "pygments_lexer": "ipython3",
   "version": "3.8.5"
  }
 },
 "nbformat": 4,
 "nbformat_minor": 4
}
