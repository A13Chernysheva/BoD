{
 "cells": [
  {
   "cell_type": "code",
   "execution_count": 1,
   "metadata": {},
   "outputs": [
    {
     "name": "stdout",
     "output_type": "stream",
     "text": [
      "Using Python-MIP package version 1.8.0\n"
     ]
    }
   ],
   "source": [
    "from mip import *\n",
    "from itertools import product\n",
    "from parse import *\n",
    "import time\n",
    "import numpy as np"
   ]
  },
  {
   "cell_type": "code",
   "execution_count": 2,
   "metadata": {},
   "outputs": [],
   "source": [
    "# ,,,,,,,,,,,,,, Обнуление тех значений, между которыми нет каналов ,,,,,,,,,,,,,,\n",
    "\n",
    "def zero_nconnect(model, q, K, V, M, Bandwidth):\n",
    "    print(len(K))\n",
    "    print(len(V))\n",
    "    print(len(V))\n",
    "    for (k, i, j) in product(K, V, V):\n",
    "        if Bandwidth.at[i, j] == 0:\n",
    "            print('i = {}'.format(i))\n",
    "            print('j = {}'.format(j))\n",
    "            print('k = {}'.format(k))\n",
    "            model += q[i][j][k] == 0"
   ]
  },
  {
   "cell_type": "code",
   "execution_count": 3,
   "metadata": {},
   "outputs": [],
   "source": [
    "# # ,,,,,,,,,,,,,, Запрещаем учитывать время после t_k для каждого контракта ,,,,,,,\n",
    "\n",
    "# def only_selftime(model, q, K, V, N, T, e):\n",
    "#     for k in N:\n",
    "#         for i, j in product(V, V):\n",
    "#             for t in range(K[k]['time'] // e, T // e):\n",
    "#                 model += q[i][j][k][t] == 0"
   ]
  },
  {
   "cell_type": "code",
   "execution_count": 4,
   "metadata": {},
   "outputs": [],
   "source": [
    "# # ,,,,,,,,,,,,,, Условие 0 ,,,,,,,,,,,,,,\n",
    "\n",
    "# def eval_cnstr0(min_t, M, V, K, N, Bandwidth, BackFlows):\n",
    "#     for t in M:\n",
    "#         sum_v = 0\n",
    "#         for i, j in product(V, V):\n",
    "#             if Bandwidth.at[i, j] != 0:\n",
    "#                 sum_v += (int)(Bandwidth.at[i, j] - BackFlows.at[i, j])\n",
    "#         if not (sum_v >= sum(K[k]['volume'] for k in N) / min_t):\n",
    "#             return False\n",
    "#     return True"
   ]
  },
  {
   "cell_type": "code",
   "execution_count": 5,
   "metadata": {},
   "outputs": [],
   "source": [
    "# ,,,,,,,,,,,,,, Условие 1 ,,,,,,,,,,,,,,\n",
    "\n",
    "def eval_cnstr1(model, q, M, V, I, Bandwidth, BackFlows):\n",
    "    for tm in M:\n",
    "        for i in V:\n",
    "            for j in V:\n",
    "                if Bandwidth.at[i, j] != 0:\n",
    "                    if I[tm]['Ctm'] != set():\n",
    "                        model += xsum(q[i][j][k] for k in I[tm]['Ctm']) <= (int)(Bandwidth.at[i, j] - BackFlows.at[i, j])\n"
   ]
  },
  {
   "cell_type": "code",
   "execution_count": 6,
   "metadata": {},
   "outputs": [],
   "source": [
    "# ,,,,,,,,,,,,,, Условие 2 ,,,,,,,,,,,,,,\n",
    "\n",
    "def eval_cnstr2(model, q, C, K, V, M, I):\n",
    "    for k in K:\n",
    "        a_k = C[k]['A']\n",
    "        s = 0\n",
    "        for tm in M:\n",
    "            if k in I[tm]['Ctm']:\n",
    "                for j in V:\n",
    "                    s += q[a_k][j][k] * I[tm]['em']\n",
    "        model += (s == C[k]['volume'])"
   ]
  },
  {
   "cell_type": "code",
   "execution_count": 7,
   "metadata": {},
   "outputs": [],
   "source": [
    "# ,,,,,,,,,,,,,, Условие 3 ,,,,,,,,,,,,,,\n",
    "\n",
    "def eval_cnstr3(model, q, C, K, V, M, I):\n",
    "    for k in K:\n",
    "        a_k = C[k]['A']\n",
    "        s = 0\n",
    "        for tm in M:\n",
    "            if k in I[tm]['Ctm']:\n",
    "                for j in V:\n",
    "                    s += q[j][a_k][k] * I[tm]['em']\n",
    "        model += (s == 0)"
   ]
  },
  {
   "cell_type": "code",
   "execution_count": 8,
   "metadata": {},
   "outputs": [],
   "source": [
    "# ,,,,,,,,,,,,,, Условие 4 ,,,,,,,,,,,,,,\n",
    "\n",
    "def eval_cnstr4(model, q, C, K, V, M, I):\n",
    "    for k in K:\n",
    "        b_k = C[k]['B']\n",
    "        s = 0\n",
    "        for tm in M:\n",
    "            if k in I[tm]['Ctm']:\n",
    "                for j in V:\n",
    "                    s += q[j][b_k][k] * I[tm]['em']\n",
    "        model += (s == C[k]['volume'])"
   ]
  },
  {
   "cell_type": "code",
   "execution_count": 9,
   "metadata": {},
   "outputs": [],
   "source": [
    "# ,,,,,,,,,,,,,, Условие 5 ,,,,,,,,,,,,,,\n",
    "\n",
    "def eval_cnstr5(model, q, C, K, V, M, I):\n",
    "    for k in K:\n",
    "        b_k = C[k]['B']\n",
    "        s = 0\n",
    "        for tm in M:\n",
    "            if k in I[tm]['Ctm']:\n",
    "                for j in V:\n",
    "                    s += q[b_k][j][k] * I[tm]['em']\n",
    "        model += (s == 0)"
   ]
  },
  {
   "cell_type": "code",
   "execution_count": 10,
   "metadata": {},
   "outputs": [],
   "source": [
    "# ,,,,,,,,,,,,,, Условие 6 ,,,,,,,,,,,,,,\n",
    "\n",
    "def eval_cnstr6(model, q, M, K, C, V, Bandwidth):\n",
    "    for tm in M:\n",
    "        for k in I[tm]['Ctm']:\n",
    "            a_k = C[k]['A']\n",
    "            b_k = C[k]['B']\n",
    "            for r in V - {a_k, b_k}:\n",
    "                sum_in = 0\n",
    "                sum_out = 0\n",
    "                flag = False\n",
    "                for j1 in V:\n",
    "                    if Bandwidth.at[r, j1] != 0:\n",
    "                        sum_out += q[r][j1][k]\n",
    "                        flag = True\n",
    "                for j2 in V:\n",
    "                    if Bandwidth.at[j2, r] != 0:\n",
    "                        sum_in += q[j2][r][k]\n",
    "                        flag = True\n",
    "                if flag:\n",
    "                    model += ((sum_in - sum_out) == 0)"
   ]
  },
  {
   "cell_type": "code",
   "execution_count": 11,
   "metadata": {},
   "outputs": [],
   "source": [
    "# # ,,,,,,,,,,,,,, Условие 7 ,,,,,,,,,,,,,,\n",
    "\n",
    "# def eval_cnstr7(model, q, K, C, M, V, I):\n",
    "#     for i, j in product(V, V):\n",
    "#         for k in K:\n",
    "#             for tm in M - {max(M)}:\n",
    "#                 if k in I[tm]['Ctm'] and k in I[tm + 1]['Ctm']:\n",
    "#                     model += (q[i][j][k][tm] == q[i][j][k][tm + 1])"
   ]
  },
  {
   "cell_type": "code",
   "execution_count": 12,
   "metadata": {},
   "outputs": [],
   "source": [
    "# # ,,,,,,,,,,,,,, Условие 8 ,,,,,,,,,,,,,,\n",
    "\n",
    "# def eval_cnstr8(model, q, M, V, K, I):\n",
    "#     for i in V:\n",
    "#         for j in V:\n",
    "#             for tm in M:\n",
    "#                 for k in K:\n",
    "#                     if not k in I[tm]['Ctm']: \n",
    "#                         model += q[i][j][k][tm] == 0"
   ]
  },
  {
   "cell_type": "code",
   "execution_count": 13,
   "metadata": {},
   "outputs": [],
   "source": [
    "# ,,,,,,,,,,,,,, Условие 9 ,,,,,,,,,,,,,,\n",
    "\n",
    "def eval_cnstr9(model, q, V, K):\n",
    "    for i in V:\n",
    "        for j in V:\n",
    "            for k in K:\n",
    "                model += q[i][j][k] >= 0"
   ]
  },
  {
   "cell_type": "code",
   "execution_count": 14,
   "metadata": {},
   "outputs": [],
   "source": [
    "def get_result(status, model, V, K, M, time):\n",
    "    correctness = \"\"\n",
    "    answer = np.zeros([len(V), len(V), len(K)])\n",
    "    if (status != None) and (status == OptimizationStatus.OPTIMAL):\n",
    "        count = 0\n",
    "        for i in range(len(model.vars)):\n",
    "            pattern = 'q[{:d}][{:d}][{:d}]'\n",
    "            i1, i2, i3 = parse(pattern, model.vars[i].name)\n",
    "            answer[i1][i2][i3] = model.vars[i].x\n",
    "            if (answer[i1][i2][i3] != 0):\n",
    "                count += 1 \n",
    "        print('Number of non zero variables: ' + str(count))\n",
    "        print('----------------------')\n",
    "    else:\n",
    "        correctness = \"Model infeasible\"\n",
    "        \n",
    "    return (len(model.constrs), correctness, answer, time)"
   ]
  },
  {
   "cell_type": "code",
   "execution_count": 15,
   "metadata": {},
   "outputs": [],
   "source": [
    "def evaluate_model(V, K, M, C, I, Bandwidth, BackFlows):\n",
    "    \n",
    "    start_time = time.time()\n",
    "\n",
    "    model = Model()\n",
    "\n",
    "    q = [[[[model.add_var(name = 'q[{}][{}][{}]'.format(i,j,k),\n",
    "              var_type = INTEGER)  for k in K]\n",
    "                                   for j in V] \n",
    "                                   for i in V]]\n",
    "\n",
    "#     min_t = T;\n",
    "#     for k in N:\n",
    "#         min_t = min(K[k]['time'], min_t)\n",
    "\n",
    "    zero_nconnect(model, q, K, V, Bandwidth)\n",
    "#     only_selftime(model, q, K, V, N, T, e)\n",
    "#     if not eval_cnstr0(min_t, M, V, K, N, Bandwidth, BackFlows):\n",
    "#         end_time = time.time()\n",
    "#         return get_result(None, model, V, K, M, end_time - start_time)\n",
    "        \n",
    "    eval_cnstr1(model, q, M, V, I, Bandwidth, BackFlows)\n",
    "    eval_cnstr2(model, q, C, K, V, M, I)\n",
    "    eval_cnstr3(model, q, C, K, V, M, I)\n",
    "    eval_cnstr4(model, q, C, K, V, M, I)\n",
    "    eval_cnstr5(model, q, C, K, V, M, I)\n",
    "    eval_cnstr6(model, q, M, K, C, V, Bandwidth)\n",
    "#     eval_cnstr7(model, q, K, C, M, V, I)\n",
    "#     eval_cnstr8(model, q, M, V, K, I)\n",
    "    eval_cnstr9(model, q, V, K)\n",
    "    \n",
    "    model.objective = minimize(xsum(q[i][j][k] for i, j, k in product(V, V, K)))\n",
    "\n",
    "    print('----------------------')\n",
    "    print('Total number of variables: ' + str(len(model.vars)))\n",
    "    \n",
    "    status = model.optimize()\n",
    "    \n",
    "    end_time = time.time()\n",
    "    \n",
    "    return get_result(status, model, V, K, M, end_time - start_time)"
   ]
  },
  {
   "cell_type": "code",
   "execution_count": null,
   "metadata": {},
   "outputs": [],
   "source": []
  },
  {
   "cell_type": "code",
   "execution_count": null,
   "metadata": {},
   "outputs": [],
   "source": []
  },
  {
   "cell_type": "code",
   "execution_count": null,
   "metadata": {},
   "outputs": [],
   "source": []
  },
  {
   "cell_type": "code",
   "execution_count": null,
   "metadata": {},
   "outputs": [],
   "source": []
  },
  {
   "cell_type": "code",
   "execution_count": null,
   "metadata": {},
   "outputs": [],
   "source": []
  }
 ],
 "metadata": {
  "kernelspec": {
   "display_name": "Python 3",
   "language": "python",
   "name": "python3"
  },
  "language_info": {
   "codemirror_mode": {
    "name": "ipython",
    "version": 3
   },
   "file_extension": ".py",
   "mimetype": "text/x-python",
   "name": "python",
   "nbconvert_exporter": "python",
   "pygments_lexer": "ipython3",
   "version": "3.8.5"
  }
 },
 "nbformat": 4,
 "nbformat_minor": 2
}
